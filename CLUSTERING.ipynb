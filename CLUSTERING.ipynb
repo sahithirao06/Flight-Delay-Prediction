{
 "cells": [
  {
   "cell_type": "markdown",
   "id": "9fbd512b-a160-4f9e-88f8-5723936906f6",
   "metadata": {},
   "source": [
    "### Initial Data Preparation"
   ]
  },
  {
   "cell_type": "code",
   "execution_count": 10,
   "id": "a326f34e-0957-49d6-b366-ab881123210f",
   "metadata": {},
   "outputs": [],
   "source": [
    "import pandas as pd\n",
    "\n",
    "frame = pd.read_csv('Merged_Flight_Weather.csv')"
   ]
  },
  {
   "cell_type": "code",
   "execution_count": 11,
   "id": "d4d39e99-d09d-4178-ad29-eb518b1e9815",
   "metadata": {},
   "outputs": [],
   "source": [
    "frame = frame.drop(columns=[ 'time', 'date', 'FlightDate', 'DepTime','ArrDelayMinutes', \n",
    "                      'ArrTime'])\n",
    "\n",
    "frame.drop_duplicates(inplace=True)\n",
    "\n",
    "frame[\"Origin\"] = frame[\"Origin\"].astype('category')\n",
    "frame[\"Dest\"] = frame[\"Dest\"].astype('category')\n",
    "\n",
    "\n",
    "frame[\"Origin\"] = frame[\"Origin\"].cat.codes\n",
    "\n",
    "frame[\"Dest\"] = frame[\"Dest\"].cat.codes"
   ]
  },
  {
   "cell_type": "code",
   "execution_count": 12,
   "id": "44b3b241-41a9-4820-91f7-e9d7312a0f9c",
   "metadata": {},
   "outputs": [
    {
     "data": {
      "text/plain": [
       "(20197718, 28)"
      ]
     },
     "execution_count": 12,
     "metadata": {},
     "output_type": "execute_result"
    }
   ],
   "source": [
    "frame.drop(frame.columns[0], axis=1, inplace=True)\n",
    "frame.shape"
   ]
  },
  {
   "cell_type": "code",
   "execution_count": 13,
   "id": "bbd2f6ce-01dd-40b4-9e48-d682db1d213c",
   "metadata": {},
   "outputs": [
    {
     "data": {
      "text/plain": [
       "index_x              int64\n",
       "ArrDel15           float64\n",
       "CRSArrTime           int64\n",
       "CRSDepTime           int64\n",
       "DayofMonth           int64\n",
       "DepDel15           float64\n",
       "DepDelayMinutes    float64\n",
       "Dest                  int8\n",
       "DestAirportID        int64\n",
       "Month                int64\n",
       "Origin                int8\n",
       "OriginAirportID      int64\n",
       "Quarter              int64\n",
       "Year                 int64\n",
       "DeptTime             int64\n",
       "index_y              int64\n",
       "windspeedKmph        int64\n",
       "winddirDegree        int64\n",
       "weatherCode          int64\n",
       "precipMM           float64\n",
       "visibility           int64\n",
       "pressure             int64\n",
       "cloudcover           int64\n",
       "DewPointF            int64\n",
       "WindGustKmph         int64\n",
       "tempF                int64\n",
       "WindChillF           int64\n",
       "humidity             int64\n",
       "dtype: object"
      ]
     },
     "execution_count": 13,
     "metadata": {},
     "output_type": "execute_result"
    }
   ],
   "source": [
    "frame.dropna(axis=0)\n",
    "\n",
    "frame['weatherCode'] = frame['weatherCode'].astype(int)\n",
    "\n",
    "frame['visibility'] = frame['visibility'].astype(int)\n",
    "frame['pressure'] = frame['pressure'].astype(int)\n",
    "frame['cloudcover'] = frame['cloudcover'].astype(int)\n",
    "frame['DewPointF'] = frame['DewPointF'].astype(int)\n",
    "frame['WindGustKmph'] = frame['WindGustKmph'].astype(int)\n",
    "frame['tempF'] = frame['tempF'].astype(int)\n",
    "frame['WindChillF'] = frame['WindChillF'].astype(int)\n",
    "frame['tempF'] = frame['tempF'].astype(int)\n",
    "\n",
    "frame['CRSArrTime'] = frame['CRSArrTime'].astype(int)\n",
    "frame['CRSDepTime'] = frame['CRSDepTime'].astype(int)\n",
    "frame['DayofMonth'] = frame['DayofMonth'].astype(int)\n",
    "\n",
    "frame['DestAirportID'] = frame['DestAirportID'].astype(int)\n",
    "frame['Month'] = frame['Month'].astype(int)\n",
    "frame['Quarter'] = frame['Quarter'].astype(int)\n",
    "frame['Year'] = frame['Year'].astype(int)\n",
    "frame['OriginAirportID'] = frame['OriginAirportID'].astype(int)\n",
    "\n",
    "frame.dtypes\n",
    "\n"
   ]
  },
  {
   "cell_type": "code",
   "execution_count": 14,
   "id": "8cb88030-fb32-41d4-9cc5-9793e8ae5394",
   "metadata": {},
   "outputs": [],
   "source": [
    "frame[\"Origin\"] = frame[\"Origin\"].astype('category')\n",
    "frame[\"Dest\"] = frame[\"Dest\"].astype('category')"
   ]
  },
  {
   "cell_type": "code",
   "execution_count": 15,
   "id": "e1150a40-89d4-4e57-990d-38751a26c764",
   "metadata": {},
   "outputs": [],
   "source": [
    "frame = frame.drop(columns=['index_x', 'index_y'])"
   ]
  },
  {
   "cell_type": "code",
   "execution_count": 16,
   "id": "cee2cc8c-2fe3-4f6d-b110-539424ef4272",
   "metadata": {},
   "outputs": [
    {
     "data": {
      "text/html": [
       "<div>\n",
       "<style scoped>\n",
       "    .dataframe tbody tr th:only-of-type {\n",
       "        vertical-align: middle;\n",
       "    }\n",
       "\n",
       "    .dataframe tbody tr th {\n",
       "        vertical-align: top;\n",
       "    }\n",
       "\n",
       "    .dataframe thead th {\n",
       "        text-align: right;\n",
       "    }\n",
       "</style>\n",
       "<table border=\"1\" class=\"dataframe\">\n",
       "  <thead>\n",
       "    <tr style=\"text-align: right;\">\n",
       "      <th></th>\n",
       "      <th>ArrDel15</th>\n",
       "      <th>CRSArrTime</th>\n",
       "      <th>CRSDepTime</th>\n",
       "      <th>DayofMonth</th>\n",
       "      <th>DepDel15</th>\n",
       "      <th>DepDelayMinutes</th>\n",
       "      <th>Dest</th>\n",
       "      <th>DestAirportID</th>\n",
       "      <th>Month</th>\n",
       "      <th>Origin</th>\n",
       "      <th>...</th>\n",
       "      <th>weatherCode</th>\n",
       "      <th>precipMM</th>\n",
       "      <th>visibility</th>\n",
       "      <th>pressure</th>\n",
       "      <th>cloudcover</th>\n",
       "      <th>DewPointF</th>\n",
       "      <th>WindGustKmph</th>\n",
       "      <th>tempF</th>\n",
       "      <th>WindChillF</th>\n",
       "      <th>humidity</th>\n",
       "    </tr>\n",
       "  </thead>\n",
       "  <tbody>\n",
       "    <tr>\n",
       "      <th>0</th>\n",
       "      <td>0.0</td>\n",
       "      <td>1602.0</td>\n",
       "      <td>745.0</td>\n",
       "      <td>1.0</td>\n",
       "      <td>0.0</td>\n",
       "      <td>0.0</td>\n",
       "      <td>6.0</td>\n",
       "      <td>12478.0</td>\n",
       "      <td>1.0</td>\n",
       "      <td>13.0</td>\n",
       "      <td>...</td>\n",
       "      <td>296.0</td>\n",
       "      <td>1.4</td>\n",
       "      <td>9.0</td>\n",
       "      <td>1029.0</td>\n",
       "      <td>100.0</td>\n",
       "      <td>42.0</td>\n",
       "      <td>27.0</td>\n",
       "      <td>47.0</td>\n",
       "      <td>41.0</td>\n",
       "      <td>84.0</td>\n",
       "    </tr>\n",
       "    <tr>\n",
       "      <th>1</th>\n",
       "      <td>0.0</td>\n",
       "      <td>1602.0</td>\n",
       "      <td>745.0</td>\n",
       "      <td>1.0</td>\n",
       "      <td>0.0</td>\n",
       "      <td>0.0</td>\n",
       "      <td>6.0</td>\n",
       "      <td>12478.0</td>\n",
       "      <td>1.0</td>\n",
       "      <td>13.0</td>\n",
       "      <td>...</td>\n",
       "      <td>113.0</td>\n",
       "      <td>0.0</td>\n",
       "      <td>10.0</td>\n",
       "      <td>1045.0</td>\n",
       "      <td>0.0</td>\n",
       "      <td>-2.0</td>\n",
       "      <td>21.0</td>\n",
       "      <td>3.0</td>\n",
       "      <td>-9.0</td>\n",
       "      <td>80.0</td>\n",
       "    </tr>\n",
       "    <tr>\n",
       "      <th>2</th>\n",
       "      <td>0.0</td>\n",
       "      <td>1602.0</td>\n",
       "      <td>745.0</td>\n",
       "      <td>1.0</td>\n",
       "      <td>0.0</td>\n",
       "      <td>0.0</td>\n",
       "      <td>6.0</td>\n",
       "      <td>12478.0</td>\n",
       "      <td>1.0</td>\n",
       "      <td>13.0</td>\n",
       "      <td>...</td>\n",
       "      <td>113.0</td>\n",
       "      <td>0.0</td>\n",
       "      <td>10.0</td>\n",
       "      <td>1020.0</td>\n",
       "      <td>1.0</td>\n",
       "      <td>30.0</td>\n",
       "      <td>15.0</td>\n",
       "      <td>51.0</td>\n",
       "      <td>47.0</td>\n",
       "      <td>46.0</td>\n",
       "    </tr>\n",
       "    <tr>\n",
       "      <th>3</th>\n",
       "      <td>0.0</td>\n",
       "      <td>1602.0</td>\n",
       "      <td>745.0</td>\n",
       "      <td>1.0</td>\n",
       "      <td>0.0</td>\n",
       "      <td>0.0</td>\n",
       "      <td>6.0</td>\n",
       "      <td>12478.0</td>\n",
       "      <td>1.0</td>\n",
       "      <td>13.0</td>\n",
       "      <td>...</td>\n",
       "      <td>122.0</td>\n",
       "      <td>0.0</td>\n",
       "      <td>10.0</td>\n",
       "      <td>1025.0</td>\n",
       "      <td>100.0</td>\n",
       "      <td>38.0</td>\n",
       "      <td>23.0</td>\n",
       "      <td>42.0</td>\n",
       "      <td>34.0</td>\n",
       "      <td>92.0</td>\n",
       "    </tr>\n",
       "    <tr>\n",
       "      <th>4</th>\n",
       "      <td>0.0</td>\n",
       "      <td>1602.0</td>\n",
       "      <td>745.0</td>\n",
       "      <td>1.0</td>\n",
       "      <td>0.0</td>\n",
       "      <td>0.0</td>\n",
       "      <td>6.0</td>\n",
       "      <td>12478.0</td>\n",
       "      <td>1.0</td>\n",
       "      <td>13.0</td>\n",
       "      <td>...</td>\n",
       "      <td>143.0</td>\n",
       "      <td>0.0</td>\n",
       "      <td>4.0</td>\n",
       "      <td>1023.0</td>\n",
       "      <td>93.0</td>\n",
       "      <td>43.0</td>\n",
       "      <td>12.0</td>\n",
       "      <td>46.0</td>\n",
       "      <td>43.0</td>\n",
       "      <td>92.0</td>\n",
       "    </tr>\n",
       "    <tr>\n",
       "      <th>...</th>\n",
       "      <td>...</td>\n",
       "      <td>...</td>\n",
       "      <td>...</td>\n",
       "      <td>...</td>\n",
       "      <td>...</td>\n",
       "      <td>...</td>\n",
       "      <td>...</td>\n",
       "      <td>...</td>\n",
       "      <td>...</td>\n",
       "      <td>...</td>\n",
       "      <td>...</td>\n",
       "      <td>...</td>\n",
       "      <td>...</td>\n",
       "      <td>...</td>\n",
       "      <td>...</td>\n",
       "      <td>...</td>\n",
       "      <td>...</td>\n",
       "      <td>...</td>\n",
       "      <td>...</td>\n",
       "      <td>...</td>\n",
       "      <td>...</td>\n",
       "    </tr>\n",
       "    <tr>\n",
       "      <th>20197713</th>\n",
       "      <td>1.0</td>\n",
       "      <td>428.0</td>\n",
       "      <td>130.0</td>\n",
       "      <td>14.0</td>\n",
       "      <td>1.0</td>\n",
       "      <td>48.0</td>\n",
       "      <td>2.0</td>\n",
       "      <td>11292.0</td>\n",
       "      <td>12.0</td>\n",
       "      <td>7.0</td>\n",
       "      <td>...</td>\n",
       "      <td>122.0</td>\n",
       "      <td>0.0</td>\n",
       "      <td>6.0</td>\n",
       "      <td>1011.0</td>\n",
       "      <td>70.0</td>\n",
       "      <td>17.0</td>\n",
       "      <td>26.0</td>\n",
       "      <td>22.0</td>\n",
       "      <td>9.0</td>\n",
       "      <td>82.0</td>\n",
       "    </tr>\n",
       "    <tr>\n",
       "      <th>20197714</th>\n",
       "      <td>1.0</td>\n",
       "      <td>428.0</td>\n",
       "      <td>130.0</td>\n",
       "      <td>14.0</td>\n",
       "      <td>1.0</td>\n",
       "      <td>48.0</td>\n",
       "      <td>2.0</td>\n",
       "      <td>11292.0</td>\n",
       "      <td>12.0</td>\n",
       "      <td>7.0</td>\n",
       "      <td>...</td>\n",
       "      <td>116.0</td>\n",
       "      <td>0.0</td>\n",
       "      <td>10.0</td>\n",
       "      <td>1029.0</td>\n",
       "      <td>28.0</td>\n",
       "      <td>35.0</td>\n",
       "      <td>10.0</td>\n",
       "      <td>40.0</td>\n",
       "      <td>37.0</td>\n",
       "      <td>81.0</td>\n",
       "    </tr>\n",
       "    <tr>\n",
       "      <th>20197715</th>\n",
       "      <td>1.0</td>\n",
       "      <td>428.0</td>\n",
       "      <td>130.0</td>\n",
       "      <td>14.0</td>\n",
       "      <td>1.0</td>\n",
       "      <td>48.0</td>\n",
       "      <td>2.0</td>\n",
       "      <td>11292.0</td>\n",
       "      <td>12.0</td>\n",
       "      <td>7.0</td>\n",
       "      <td>...</td>\n",
       "      <td>113.0</td>\n",
       "      <td>0.0</td>\n",
       "      <td>10.0</td>\n",
       "      <td>1018.0</td>\n",
       "      <td>0.0</td>\n",
       "      <td>6.0</td>\n",
       "      <td>30.0</td>\n",
       "      <td>45.0</td>\n",
       "      <td>40.0</td>\n",
       "      <td>20.0</td>\n",
       "    </tr>\n",
       "    <tr>\n",
       "      <th>20197716</th>\n",
       "      <td>1.0</td>\n",
       "      <td>428.0</td>\n",
       "      <td>130.0</td>\n",
       "      <td>14.0</td>\n",
       "      <td>1.0</td>\n",
       "      <td>48.0</td>\n",
       "      <td>2.0</td>\n",
       "      <td>11292.0</td>\n",
       "      <td>12.0</td>\n",
       "      <td>7.0</td>\n",
       "      <td>...</td>\n",
       "      <td>113.0</td>\n",
       "      <td>0.0</td>\n",
       "      <td>10.0</td>\n",
       "      <td>1018.0</td>\n",
       "      <td>0.0</td>\n",
       "      <td>36.0</td>\n",
       "      <td>18.0</td>\n",
       "      <td>49.0</td>\n",
       "      <td>48.0</td>\n",
       "      <td>60.0</td>\n",
       "    </tr>\n",
       "    <tr>\n",
       "      <th>20197717</th>\n",
       "      <td>1.0</td>\n",
       "      <td>428.0</td>\n",
       "      <td>130.0</td>\n",
       "      <td>14.0</td>\n",
       "      <td>1.0</td>\n",
       "      <td>48.0</td>\n",
       "      <td>2.0</td>\n",
       "      <td>11292.0</td>\n",
       "      <td>12.0</td>\n",
       "      <td>7.0</td>\n",
       "      <td>...</td>\n",
       "      <td>113.0</td>\n",
       "      <td>0.0</td>\n",
       "      <td>10.0</td>\n",
       "      <td>1018.0</td>\n",
       "      <td>0.0</td>\n",
       "      <td>50.0</td>\n",
       "      <td>9.0</td>\n",
       "      <td>59.0</td>\n",
       "      <td>59.0</td>\n",
       "      <td>73.0</td>\n",
       "    </tr>\n",
       "  </tbody>\n",
       "</table>\n",
       "<p>20197718 rows × 26 columns</p>\n",
       "</div>"
      ],
      "text/plain": [
       "          ArrDel15  CRSArrTime  CRSDepTime  DayofMonth  DepDel15  \\\n",
       "0              0.0      1602.0       745.0         1.0       0.0   \n",
       "1              0.0      1602.0       745.0         1.0       0.0   \n",
       "2              0.0      1602.0       745.0         1.0       0.0   \n",
       "3              0.0      1602.0       745.0         1.0       0.0   \n",
       "4              0.0      1602.0       745.0         1.0       0.0   \n",
       "...            ...         ...         ...         ...       ...   \n",
       "20197713       1.0       428.0       130.0        14.0       1.0   \n",
       "20197714       1.0       428.0       130.0        14.0       1.0   \n",
       "20197715       1.0       428.0       130.0        14.0       1.0   \n",
       "20197716       1.0       428.0       130.0        14.0       1.0   \n",
       "20197717       1.0       428.0       130.0        14.0       1.0   \n",
       "\n",
       "          DepDelayMinutes  Dest  DestAirportID  Month  Origin  ...  \\\n",
       "0                     0.0   6.0        12478.0    1.0    13.0  ...   \n",
       "1                     0.0   6.0        12478.0    1.0    13.0  ...   \n",
       "2                     0.0   6.0        12478.0    1.0    13.0  ...   \n",
       "3                     0.0   6.0        12478.0    1.0    13.0  ...   \n",
       "4                     0.0   6.0        12478.0    1.0    13.0  ...   \n",
       "...                   ...   ...            ...    ...     ...  ...   \n",
       "20197713             48.0   2.0        11292.0   12.0     7.0  ...   \n",
       "20197714             48.0   2.0        11292.0   12.0     7.0  ...   \n",
       "20197715             48.0   2.0        11292.0   12.0     7.0  ...   \n",
       "20197716             48.0   2.0        11292.0   12.0     7.0  ...   \n",
       "20197717             48.0   2.0        11292.0   12.0     7.0  ...   \n",
       "\n",
       "          weatherCode  precipMM  visibility  pressure  cloudcover  DewPointF  \\\n",
       "0               296.0       1.4         9.0    1029.0       100.0       42.0   \n",
       "1               113.0       0.0        10.0    1045.0         0.0       -2.0   \n",
       "2               113.0       0.0        10.0    1020.0         1.0       30.0   \n",
       "3               122.0       0.0        10.0    1025.0       100.0       38.0   \n",
       "4               143.0       0.0         4.0    1023.0        93.0       43.0   \n",
       "...               ...       ...         ...       ...         ...        ...   \n",
       "20197713        122.0       0.0         6.0    1011.0        70.0       17.0   \n",
       "20197714        116.0       0.0        10.0    1029.0        28.0       35.0   \n",
       "20197715        113.0       0.0        10.0    1018.0         0.0        6.0   \n",
       "20197716        113.0       0.0        10.0    1018.0         0.0       36.0   \n",
       "20197717        113.0       0.0        10.0    1018.0         0.0       50.0   \n",
       "\n",
       "          WindGustKmph  tempF  WindChillF  humidity  \n",
       "0                 27.0   47.0        41.0      84.0  \n",
       "1                 21.0    3.0        -9.0      80.0  \n",
       "2                 15.0   51.0        47.0      46.0  \n",
       "3                 23.0   42.0        34.0      92.0  \n",
       "4                 12.0   46.0        43.0      92.0  \n",
       "...                ...    ...         ...       ...  \n",
       "20197713          26.0   22.0         9.0      82.0  \n",
       "20197714          10.0   40.0        37.0      81.0  \n",
       "20197715          30.0   45.0        40.0      20.0  \n",
       "20197716          18.0   49.0        48.0      60.0  \n",
       "20197717           9.0   59.0        59.0      73.0  \n",
       "\n",
       "[20197718 rows x 26 columns]"
      ]
     },
     "execution_count": 16,
     "metadata": {},
     "output_type": "execute_result"
    }
   ],
   "source": [
    "import pandas as pd\n",
    "import numpy as np\n",
    "\n",
    "def clean_dataset(df):\n",
    "    assert isinstance(df, pd.DataFrame)\n",
    "    df.dropna(inplace=True)\n",
    "    indices_to_keep = ~df.isin([np.nan, np.inf, -np.inf]).any(1)\n",
    "    return df[indices_to_keep].astype(np.float64)\n",
    "clean_dataset(frame)"
   ]
  },
  {
   "cell_type": "code",
   "execution_count": 17,
   "id": "f966202b-781f-44a9-945f-9b023fb90973",
   "metadata": {},
   "outputs": [],
   "source": [
    "y = frame['ArrDel15']\n",
    "X = frame.drop(columns = ['ArrDel15'])\n",
    "\n",
    "from sklearn.model_selection import train_test_split\n",
    "X_train, X_test, y_train, y_test = train_test_split(X, y, train_size=0.7)"
   ]
  },
  {
   "cell_type": "markdown",
   "id": "c52e128b-c8f1-4c68-987c-506609669ccd",
   "metadata": {},
   "source": [
    "### K means using elbow method"
   ]
  },
  {
   "cell_type": "code",
   "execution_count": 18,
   "id": "90c790f0-cc01-415d-ab7a-d3da8460174d",
   "metadata": {},
   "outputs": [
    {
     "data": {
      "image/png": "[encoded data removed]",
      "text/plain": [
       "<Figure size 432x288 with 1 Axes>"
      ]
     },
     "metadata": {
      "needs_background": "light"
     },
     "output_type": "display_data"
    }
   ],
   "source": [
    "import matplotlib.pyplot as plt\n",
    "from sklearn.cluster import KMeans\n",
    "wcss = []\n",
    "for i in range(1, 11):\n",
    "    kmeans = KMeans(n_clusters = i, init = 'k-means++', random_state = 42)\n",
    "    kmeans.fit(X)\n",
    "    wcss.append(kmeans.inertia_)\n",
    "plt.plot(range(1, 11), wcss)\n",
    "plt.title('The Elbow Method')\n",
    "plt.xlabel('Number of clusters')\n",
    "plt.ylabel('WCSS')\n",
    "plt.show()\n"
   ]
  },
  {
   "cell_type": "code",
   "execution_count": 2,
   "id": "117f9297-b65d-4636-a52a-fb76d987de62",
   "metadata": {},
   "outputs": [
    {
     "ename": "NameError",
     "evalue": "name 'KMeans' is not defined",
     "output_type": "error",
     "traceback": [
      "\u001b[0;31m---------------------------------------------------------------------------\u001b[0m",
      "\u001b[0;31mNameError\u001b[0m                                 Traceback (most recent call last)",
      "Input \u001b[0;32mIn [2]\u001b[0m, in \u001b[0;36m<cell line: 1>\u001b[0;34m()\u001b[0m\n\u001b[0;32m----> 1\u001b[0m kmeans \u001b[38;5;241m=\u001b[39m \u001b[43mKMeans\u001b[49m(n_clusters \u001b[38;5;241m=\u001b[39m \u001b[38;5;241m6\u001b[39m, init \u001b[38;5;241m=\u001b[39m \u001b[38;5;124m'\u001b[39m\u001b[38;5;124mk-means++\u001b[39m\u001b[38;5;124m'\u001b[39m, random_state \u001b[38;5;241m=\u001b[39m \u001b[38;5;241m42\u001b[39m)\n\u001b[1;32m      2\u001b[0m y_kmeans \u001b[38;5;241m=\u001b[39m kmeans\u001b[38;5;241m.\u001b[39mfit_predict(X)\n\u001b[1;32m      3\u001b[0m \u001b[38;5;28mprint\u001b[39m(y_kmeans)\n",
      "\u001b[0;31mNameError\u001b[0m: name 'KMeans' is not defined"
     ]
    }
   ],
   "source": [
    "kmeans = KMeans(n_clusters = 6, init = 'k-means++', random_state = 42)\n",
    "y_kmeans = kmeans.fit_predict(X)\n",
    "print(y_kmeans)"
   ]
  },
  {
   "cell_type": "code",
   "execution_count": 20,
   "id": "c869a3be-d818-49b7-b2cf-ba80608db827",
   "metadata": {},
   "outputs": [
    {
     "name": "stdout",
     "output_type": "stream",
     "text": [
      "The centroids are  [[1.46659415e+03 1.23737708e+03 1.57788099e+01 1.86594014e-01\n",
      "  1.32005865e+01 2.32027515e+00 1.12429713e+04 6.55538668e+00\n",
      "  1.02220784e+01 1.36385517e+04 2.51830612e+00 2.01668148e+03\n",
      "  1.22357319e+03 1.20960988e+01 1.82877600e+02 1.46876197e+02\n",
      "  2.87273020e-01 9.43401182e+00 1.01618920e+03 4.09258798e+01\n",
      "  4.96910613e+01 1.66801868e+01 6.56141062e+01 6.43443003e+01\n",
      "  6.30630546e+01]\n",
      " [1.51988538e+03 1.37655348e+03 1.57831381e+01 2.01385017e-01\n",
      "  1.38090782e+01 1.02483632e+01 1.36534327e+04 6.57818810e+00\n",
      "  1.94986066e+00 1.11061861e+04 2.52574765e+00 2.01668374e+03\n",
      "  1.37950556e+03 1.24234454e+01 1.84446286e+02 1.47077465e+02\n",
      "  2.96975701e-01 9.49059779e+00 1.01600083e+03 4.03763652e+01\n",
      "  4.97739740e+01 1.69537501e+01 6.65726908e+01 6.53687740e+01\n",
      "  6.14824957e+01]\n",
      " [1.49900888e+03 1.37453322e+03 1.57592624e+01 2.20822111e-01\n",
      "  1.55848654e+01 1.02610519e+01 1.36776888e+04 6.52047866e+00\n",
      "  7.32172366e+00 1.28004716e+04 2.50716579e+00 2.01667636e+03\n",
      "  1.36559062e+03 1.23375943e+01 1.84467479e+02 1.47120094e+02\n",
      "  2.95216431e-01 9.46894572e+00 1.01604026e+03 4.05546007e+01\n",
      "  4.96382583e+01 1.69532128e+01 6.61678055e+01 6.49510176e+01\n",
      "  6.19506071e+01]\n",
      " [1.52599328e+03 1.32688466e+03 1.57530738e+01 1.84761734e-01\n",
      "  1.33424272e+01 2.30486799e+00 1.12476199e+04 6.56917342e+00\n",
      "  2.41272899e+00 1.12837665e+04 2.52206289e+00 2.01667446e+03\n",
      "  1.34090204e+03 1.24217721e+01 1.84330397e+02 1.47049500e+02\n",
      "  2.93781004e-01 9.47565729e+00 1.01601542e+03 4.05274856e+01\n",
      "  4.97116151e+01 1.69060697e+01 6.65255338e+01 6.52967507e+01\n",
      "  6.15136093e+01]\n",
      " [1.48237916e+03 1.32591496e+03 1.57831919e+01 2.09833735e-01\n",
      "  1.42199359e+01 9.62701009e+00 1.35021773e+04 6.59775265e+00\n",
      "  1.26743776e+01 1.44407578e+04 2.53136213e+00 2.01667767e+03\n",
      "  1.32067236e+03 1.22011834e+01 1.83775232e+02 1.46918053e+02\n",
      "  2.93801506e-01 9.46560467e+00 1.01608037e+03 4.05189149e+01\n",
      "  4.98580500e+01 1.68029560e+01 6.61486897e+01 6.49354416e+01\n",
      "  6.23996066e+01]]\n",
      "Assignments are: \n",
      "[4 4 4 ... 0 0 0]\n"
     ]
    }
   ],
   "source": [
    "print(\"The centroids are \", kmeans.cluster_centers_)\n",
    "\n",
    "print(\"Assignments are: \")\n",
    "print(kmeans.labels_)"
   ]
  },
  {
   "cell_type": "markdown",
   "id": "03f16964-84da-4044-9aa0-7130cae2904a",
   "metadata": {},
   "source": [
    "### Dimensional analysis"
   ]
  },
  {
   "cell_type": "code",
   "execution_count": 21,
   "id": "e1e6d49d-4d31-4149-a8a0-e678a54f468c",
   "metadata": {},
   "outputs": [],
   "source": [
    "from sklearn.discriminant_analysis import LinearDiscriminantAnalysis as LDA\n",
    "lda = LDA(n_components = 1)\n",
    "X_train = lda.fit_transform(X_train, y_train)\n",
    "X_test = lda.transform(X_test)"
   ]
  },
  {
   "cell_type": "code",
   "execution_count": 22,
   "id": "f3acc376-05c6-4c71-ac67-a3b3e2a22881",
   "metadata": {},
   "outputs": [
    {
     "data": {
      "text/plain": [
       "LogisticRegression(random_state=0)"
      ]
     },
     "execution_count": 22,
     "metadata": {},
     "output_type": "execute_result"
    }
   ],
   "source": [
    "from sklearn.linear_model import LogisticRegression\n",
    "classifier = LogisticRegression(random_state = 0)\n",
    "classifier.fit(X_train, y_train)"
   ]
  },
  {
   "cell_type": "code",
   "execution_count": 23,
   "id": "51f426fa-a1be-4eab-834f-728955423db0",
   "metadata": {},
   "outputs": [
    {
     "name": "stdout",
     "output_type": "stream",
     "text": [
      "[[4520892  258608]\n",
      " [ 315721  964095]]\n"
     ]
    },
    {
     "data": {
      "text/plain": [
       "0.9052155391796698"
      ]
     },
     "execution_count": 23,
     "metadata": {},
     "output_type": "execute_result"
    }
   ],
   "source": [
    "from sklearn.metrics import confusion_matrix, accuracy_score\n",
    "y_pred = classifier.predict(X_test)\n",
    "cm = confusion_matrix(y_test, y_pred)\n",
    "print(cm)\n",
    "accuracy_score(y_test, y_pred)"
   ]
  },
  {
   "cell_type": "markdown",
   "id": "254864d7-6047-4ee4-8661-7415137f71bb",
   "metadata": {},
   "source": [
    "As the data is supervised, PCA is not possible . As the data which I considered has only 2 classes for prediction, LDA is not supportable due to the below statement\n",
    "n_components cannot be larger than min(n_features, n_classes - 1\n",
    ")."
   ]
  },
  {
   "cell_type": "markdown",
   "id": "105ee91f-f5d8-4137-809e-16590ca95f97",
   "metadata": {},
   "source": [
    "So, dimensional analysis is not possible. the data can be viewd from clusters."
   ]
  },
  {
   "cell_type": "markdown",
   "id": "60286b56-6159-4138-a990-bd8194981310",
   "metadata": {},
   "source": [
    "To perform dimensionl analysis, we need two axis, x-axis and y-axis. Here, number of classes are two, n_components min(features, n_classes-1) i.e. 2-1=1. min(features, 1), minimum is 1. So, we are getting only one axis, we cannot perform dimensional analysis with one axis."
   ]
  },
  {
   "cell_type": "markdown",
   "id": "b1b592ec-56e7-4160-911c-e65b4b7b0f32",
   "metadata": {},
   "source": [
    "#### What you have discovered in data?"
   ]
  },
  {
   "cell_type": "markdown",
   "id": "43a59703-ca81-4d06-8f41-3231124e3878",
   "metadata": {},
   "source": [
    "As the data do not contain any anomolous data and the data is supervised, we can predict it with any supervised models like random forest, neural nets and regression to get best accuracy. For the dataset, we got 6\n",
    "clusters as shown above. "
   ]
  },
  {
   "cell_type": "markdown",
   "id": "42087ee5-813c-4608-a83d-e11f4ce6dd2a",
   "metadata": {},
   "source": [
    "#### Anomolous data"
   ]
  },
  {
   "cell_type": "markdown",
   "id": "c624876a-d14a-4213-8a3b-d74b39cd83af",
   "metadata": {},
   "source": [
    "There is no anomolous data for this dataset. Anomaly detection is identifying data points in data that don't fit the normal patterns. We usually perform anomaly detection to make it more effective, especially when large datasets are involved."
   ]
  },
  {
   "cell_type": "markdown",
   "id": "6b306ffb-bec1-43fb-91cd-350a72fed571",
   "metadata": {},
   "source": [
    "As explained above, The dataset do not have anomolous data."
   ]
  },
  {
   "cell_type": "markdown",
   "id": "b61b091c-8da0-4bb5-ac37-86154cfd8299",
   "metadata": {},
   "source": [
    "### Random forest"
   ]
  },
  {
   "cell_type": "code",
   "execution_count": 24,
   "id": "c402c1be-8dac-49dd-8648-055113ad7054",
   "metadata": {},
   "outputs": [
    {
     "data": {
      "text/plain": [
       "RandomForestClassifier(criterion='entropy', n_estimators=10, random_state=0)"
      ]
     },
     "execution_count": 24,
     "metadata": {},
     "output_type": "execute_result"
    }
   ],
   "source": [
    "from sklearn.ensemble import RandomForestClassifier\n",
    "classifier = RandomForestClassifier(n_estimators = 10, criterion = 'entropy', random_state = 0)\n",
    "classifier.fit(X_train, y_train)"
   ]
  },
  {
   "cell_type": "code",
   "execution_count": 1,
   "id": "6d68e000-9fd3-4e05-997b-8ccdbbb458f4",
   "metadata": {},
   "outputs": [
    {
     "ename": "NameError",
     "evalue": "name 'classifier' is not defined",
     "output_type": "error",
     "traceback": [
      "\u001b[0;31m---------------------------------------------------------------------------\u001b[0m",
      "\u001b[0;31mNameError\u001b[0m                                 Traceback (most recent call last)",
      "Input \u001b[0;32mIn [1]\u001b[0m, in \u001b[0;36m<cell line: 1>\u001b[0;34m()\u001b[0m\n\u001b[0;32m----> 1\u001b[0m y_pred \u001b[38;5;241m=\u001b[39m \u001b[43mclassifier\u001b[49m\u001b[38;5;241m.\u001b[39mpredict(X_test)\n",
      "\u001b[0;31mNameError\u001b[0m: name 'classifier' is not defined"
     ]
    }
   ],
   "source": [
    "y_pred = classifier.predict(X_test)"
   ]
  },
  {
   "cell_type": "code",
   "execution_count": null,
   "id": "cccd6a28-cad1-4c91-b5c4-dcbb339ce112",
   "metadata": {},
   "outputs": [],
   "source": [
    "from sklearn.metrics import confusion_matrix, accuracy_score\n",
    "cm = confusion_matrix(y_test, y_pred)\n",
    "print(cm)\n",
    "accuracy_score(y_test, y_pred)"
   ]
  },
  {
   "cell_type": "code",
   "execution_count": null,
   "id": "ceecbafc-2289-4269-b466-e332c9a490ca",
   "metadata": {},
   "outputs": [],
   "source": []
  },
  {
   "cell_type": "code",
   "execution_count": null,
   "id": "2a0c4bc5-7d36-4187-a8e9-978042990367",
   "metadata": {},
   "outputs": [],
   "source": []
  },
  {
   "cell_type": "code",
   "execution_count": null,
   "id": "6b5cc9cc-3edc-46ae-ba2d-d2fc247071de",
   "metadata": {},
   "outputs": [],
   "source": []
  }
 ],
 "metadata": {
  "kernelspec": {
   "display_name": "Python 3 (ipykernel)",
   "language": "python",
   "name": "python3"
  },
  "language_info": {
   "codemirror_mode": {
    "name": "ipython",
    "version": 3
   },
   "file_extension": ".py",
   "mimetype": "text/x-python",
   "name": "python",
   "nbconvert_exporter": "python",
   "pygments_lexer": "ipython3",
   "version": "3.10.1"
  }
 },
 "nbformat": 4,
 "nbformat_minor": 5
}
