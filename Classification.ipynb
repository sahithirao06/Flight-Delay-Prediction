{
 "cells": [
  {
   "cell_type": "markdown",
   "id": "354c7f89-1b26-48ca-9e63-7a03e316acd0",
   "metadata": {},
   "source": [
    "### 1. Initial Data Preparation"
   ]
  },
  {
   "cell_type": "markdown",
   "id": "24bd8d6b-c4b2-467f-9106-ec5f55c2282d",
   "metadata": {},
   "source": [
    "#### Importing libraries"
   ]
  },
  {
   "cell_type": "code",
   "execution_count": 1,
   "id": "a75e0746-534a-46c2-92fc-299b625cace7",
   "metadata": {},
   "outputs": [],
   "source": [
    "import pandas as pd\n",
    "\n",
    "frame = pd.read_csv('Merged_Flight_Weather.csv')"
   ]
  },
  {
   "cell_type": "markdown",
   "id": "d2612c68-f203-40d8-be9b-61f2485981c2",
   "metadata": {},
   "source": [
    "#### Converting datatypes of columns, dropping unnececessary columns"
   ]
  },
  {
   "cell_type": "code",
   "execution_count": 2,
   "id": "5bf247b1-5ff7-421d-9152-09d685f974dc",
   "metadata": {},
   "outputs": [],
   "source": [
    "frame = frame.drop(columns=[ 'time', 'date', 'FlightDate', 'DepTime','ArrDelayMinutes', \n",
    "                      'ArrTime'])\n",
    "\n",
    "frame.drop_duplicates(inplace=True)\n",
    "\n",
    "frame[\"Origin\"] = frame[\"Origin\"].astype('category')\n",
    "frame[\"Dest\"] = frame[\"Dest\"].astype('category')\n",
    "\n",
    "\n",
    "frame[\"Origin\"] = frame[\"Origin\"].cat.codes\n",
    "\n",
    "frame[\"Dest\"] = frame[\"Dest\"].cat.codes"
   ]
  },
  {
   "cell_type": "code",
   "execution_count": 3,
   "id": "5342eefa-2a16-49f3-a92c-9c0e1123bf9b",
   "metadata": {},
   "outputs": [
    {
     "data": {
      "text/plain": [
       "(20197718, 28)"
      ]
     },
     "execution_count": 3,
     "metadata": {},
     "output_type": "execute_result"
    }
   ],
   "source": [
    "frame.drop(frame.columns[0], axis=1, inplace=True)\n",
    "frame.shape"
   ]
  },
  {
   "cell_type": "code",
   "execution_count": 4,
   "id": "5cfbc241-fef4-428b-a3a1-39b351ec3c60",
   "metadata": {},
   "outputs": [
    {
     "data": {
      "text/plain": [
       "index_x              int64\n",
       "ArrDel15           float64\n",
       "CRSArrTime           int64\n",
       "CRSDepTime           int64\n",
       "DayofMonth           int64\n",
       "DepDel15           float64\n",
       "DepDelayMinutes    float64\n",
       "Dest                  int8\n",
       "DestAirportID        int64\n",
       "Month                int64\n",
       "Origin                int8\n",
       "OriginAirportID      int64\n",
       "Quarter              int64\n",
       "Year                 int64\n",
       "DeptTime             int64\n",
       "index_y              int64\n",
       "windspeedKmph        int64\n",
       "winddirDegree        int64\n",
       "weatherCode          int64\n",
       "precipMM           float64\n",
       "visibility           int64\n",
       "pressure             int64\n",
       "cloudcover           int64\n",
       "DewPointF            int64\n",
       "WindGustKmph         int64\n",
       "tempF                int64\n",
       "WindChillF           int64\n",
       "humidity             int64\n",
       "dtype: object"
      ]
     },
     "execution_count": 4,
     "metadata": {},
     "output_type": "execute_result"
    }
   ],
   "source": [
    "frame.dropna(axis=0)\n",
    "\n",
    "frame['weatherCode'] = frame['weatherCode'].astype(int)\n",
    "\n",
    "frame['visibility'] = frame['visibility'].astype(int)\n",
    "frame['pressure'] = frame['pressure'].astype(int)\n",
    "frame['cloudcover'] = frame['cloudcover'].astype(int)\n",
    "frame['DewPointF'] = frame['DewPointF'].astype(int)\n",
    "frame['WindGustKmph'] = frame['WindGustKmph'].astype(int)\n",
    "frame['tempF'] = frame['tempF'].astype(int)\n",
    "frame['WindChillF'] = frame['WindChillF'].astype(int)\n",
    "frame['tempF'] = frame['tempF'].astype(int)\n",
    "\n",
    "frame['CRSArrTime'] = frame['CRSArrTime'].astype(int)\n",
    "frame['CRSDepTime'] = frame['CRSDepTime'].astype(int)\n",
    "frame['DayofMonth'] = frame['DayofMonth'].astype(int)\n",
    "\n",
    "frame['DestAirportID'] = frame['DestAirportID'].astype(int)\n",
    "frame['Month'] = frame['Month'].astype(int)\n",
    "frame['Quarter'] = frame['Quarter'].astype(int)\n",
    "frame['Year'] = frame['Year'].astype(int)\n",
    "frame['OriginAirportID'] = frame['OriginAirportID'].astype(int)\n",
    "\n",
    "frame.dtypes\n",
    "\n"
   ]
  },
  {
   "cell_type": "code",
   "execution_count": 5,
   "id": "2e60b035-36a6-4073-ac2d-d6ddea810f6b",
   "metadata": {},
   "outputs": [],
   "source": [
    "frame[\"Origin\"] = frame[\"Origin\"].astype('category')\n",
    "frame[\"Dest\"] = frame[\"Dest\"].astype('category')"
   ]
  },
  {
   "cell_type": "code",
   "execution_count": 6,
   "id": "83027f99-be78-48cd-a7fd-248f7b7a793d",
   "metadata": {},
   "outputs": [
    {
     "data": {
      "text/plain": [
       "(20197718, 28)"
      ]
     },
     "execution_count": 6,
     "metadata": {},
     "output_type": "execute_result"
    }
   ],
   "source": [
    "frame.dtypes\n",
    "frame.shape"
   ]
  },
  {
   "cell_type": "code",
   "execution_count": 7,
   "id": "ca6b2c65-4fae-4f42-9f2b-38663340871c",
   "metadata": {},
   "outputs": [],
   "source": [
    "frame = frame.drop(columns=['index_x', 'index_y'])"
   ]
  },
  {
   "cell_type": "code",
   "execution_count": 8,
   "id": "52d1f92b-99bf-422d-ad78-bb2a8461e442",
   "metadata": {},
   "outputs": [
    {
     "data": {
      "text/html": [
       "<div>\n",
       "<style scoped>\n",
       "    .dataframe tbody tr th:only-of-type {\n",
       "        vertical-align: middle;\n",
       "    }\n",
       "\n",
       "    .dataframe tbody tr th {\n",
       "        vertical-align: top;\n",
       "    }\n",
       "\n",
       "    .dataframe thead th {\n",
       "        text-align: right;\n",
       "    }\n",
       "</style>\n",
       "<table border=\"1\" class=\"dataframe\">\n",
       "  <thead>\n",
       "    <tr style=\"text-align: right;\">\n",
       "      <th></th>\n",
       "      <th>ArrDel15</th>\n",
       "      <th>CRSArrTime</th>\n",
       "      <th>CRSDepTime</th>\n",
       "      <th>DayofMonth</th>\n",
       "      <th>DepDel15</th>\n",
       "      <th>DepDelayMinutes</th>\n",
       "      <th>Dest</th>\n",
       "      <th>DestAirportID</th>\n",
       "      <th>Month</th>\n",
       "      <th>Origin</th>\n",
       "      <th>...</th>\n",
       "      <th>weatherCode</th>\n",
       "      <th>precipMM</th>\n",
       "      <th>visibility</th>\n",
       "      <th>pressure</th>\n",
       "      <th>cloudcover</th>\n",
       "      <th>DewPointF</th>\n",
       "      <th>WindGustKmph</th>\n",
       "      <th>tempF</th>\n",
       "      <th>WindChillF</th>\n",
       "      <th>humidity</th>\n",
       "    </tr>\n",
       "  </thead>\n",
       "  <tbody>\n",
       "    <tr>\n",
       "      <th>0</th>\n",
       "      <td>0.0</td>\n",
       "      <td>1602.0</td>\n",
       "      <td>745.0</td>\n",
       "      <td>1.0</td>\n",
       "      <td>0.0</td>\n",
       "      <td>0.0</td>\n",
       "      <td>6.0</td>\n",
       "      <td>12478.0</td>\n",
       "      <td>1.0</td>\n",
       "      <td>13.0</td>\n",
       "      <td>...</td>\n",
       "      <td>296.0</td>\n",
       "      <td>1.4</td>\n",
       "      <td>9.0</td>\n",
       "      <td>1029.0</td>\n",
       "      <td>100.0</td>\n",
       "      <td>42.0</td>\n",
       "      <td>27.0</td>\n",
       "      <td>47.0</td>\n",
       "      <td>41.0</td>\n",
       "      <td>84.0</td>\n",
       "    </tr>\n",
       "    <tr>\n",
       "      <th>1</th>\n",
       "      <td>0.0</td>\n",
       "      <td>1602.0</td>\n",
       "      <td>745.0</td>\n",
       "      <td>1.0</td>\n",
       "      <td>0.0</td>\n",
       "      <td>0.0</td>\n",
       "      <td>6.0</td>\n",
       "      <td>12478.0</td>\n",
       "      <td>1.0</td>\n",
       "      <td>13.0</td>\n",
       "      <td>...</td>\n",
       "      <td>113.0</td>\n",
       "      <td>0.0</td>\n",
       "      <td>10.0</td>\n",
       "      <td>1045.0</td>\n",
       "      <td>0.0</td>\n",
       "      <td>-2.0</td>\n",
       "      <td>21.0</td>\n",
       "      <td>3.0</td>\n",
       "      <td>-9.0</td>\n",
       "      <td>80.0</td>\n",
       "    </tr>\n",
       "    <tr>\n",
       "      <th>2</th>\n",
       "      <td>0.0</td>\n",
       "      <td>1602.0</td>\n",
       "      <td>745.0</td>\n",
       "      <td>1.0</td>\n",
       "      <td>0.0</td>\n",
       "      <td>0.0</td>\n",
       "      <td>6.0</td>\n",
       "      <td>12478.0</td>\n",
       "      <td>1.0</td>\n",
       "      <td>13.0</td>\n",
       "      <td>...</td>\n",
       "      <td>113.0</td>\n",
       "      <td>0.0</td>\n",
       "      <td>10.0</td>\n",
       "      <td>1020.0</td>\n",
       "      <td>1.0</td>\n",
       "      <td>30.0</td>\n",
       "      <td>15.0</td>\n",
       "      <td>51.0</td>\n",
       "      <td>47.0</td>\n",
       "      <td>46.0</td>\n",
       "    </tr>\n",
       "    <tr>\n",
       "      <th>3</th>\n",
       "      <td>0.0</td>\n",
       "      <td>1602.0</td>\n",
       "      <td>745.0</td>\n",
       "      <td>1.0</td>\n",
       "      <td>0.0</td>\n",
       "      <td>0.0</td>\n",
       "      <td>6.0</td>\n",
       "      <td>12478.0</td>\n",
       "      <td>1.0</td>\n",
       "      <td>13.0</td>\n",
       "      <td>...</td>\n",
       "      <td>122.0</td>\n",
       "      <td>0.0</td>\n",
       "      <td>10.0</td>\n",
       "      <td>1025.0</td>\n",
       "      <td>100.0</td>\n",
       "      <td>38.0</td>\n",
       "      <td>23.0</td>\n",
       "      <td>42.0</td>\n",
       "      <td>34.0</td>\n",
       "      <td>92.0</td>\n",
       "    </tr>\n",
       "    <tr>\n",
       "      <th>4</th>\n",
       "      <td>0.0</td>\n",
       "      <td>1602.0</td>\n",
       "      <td>745.0</td>\n",
       "      <td>1.0</td>\n",
       "      <td>0.0</td>\n",
       "      <td>0.0</td>\n",
       "      <td>6.0</td>\n",
       "      <td>12478.0</td>\n",
       "      <td>1.0</td>\n",
       "      <td>13.0</td>\n",
       "      <td>...</td>\n",
       "      <td>143.0</td>\n",
       "      <td>0.0</td>\n",
       "      <td>4.0</td>\n",
       "      <td>1023.0</td>\n",
       "      <td>93.0</td>\n",
       "      <td>43.0</td>\n",
       "      <td>12.0</td>\n",
       "      <td>46.0</td>\n",
       "      <td>43.0</td>\n",
       "      <td>92.0</td>\n",
       "    </tr>\n",
       "    <tr>\n",
       "      <th>...</th>\n",
       "      <td>...</td>\n",
       "      <td>...</td>\n",
       "      <td>...</td>\n",
       "      <td>...</td>\n",
       "      <td>...</td>\n",
       "      <td>...</td>\n",
       "      <td>...</td>\n",
       "      <td>...</td>\n",
       "      <td>...</td>\n",
       "      <td>...</td>\n",
       "      <td>...</td>\n",
       "      <td>...</td>\n",
       "      <td>...</td>\n",
       "      <td>...</td>\n",
       "      <td>...</td>\n",
       "      <td>...</td>\n",
       "      <td>...</td>\n",
       "      <td>...</td>\n",
       "      <td>...</td>\n",
       "      <td>...</td>\n",
       "      <td>...</td>\n",
       "    </tr>\n",
       "    <tr>\n",
       "      <th>20197713</th>\n",
       "      <td>1.0</td>\n",
       "      <td>428.0</td>\n",
       "      <td>130.0</td>\n",
       "      <td>14.0</td>\n",
       "      <td>1.0</td>\n",
       "      <td>48.0</td>\n",
       "      <td>2.0</td>\n",
       "      <td>11292.0</td>\n",
       "      <td>12.0</td>\n",
       "      <td>7.0</td>\n",
       "      <td>...</td>\n",
       "      <td>122.0</td>\n",
       "      <td>0.0</td>\n",
       "      <td>6.0</td>\n",
       "      <td>1011.0</td>\n",
       "      <td>70.0</td>\n",
       "      <td>17.0</td>\n",
       "      <td>26.0</td>\n",
       "      <td>22.0</td>\n",
       "      <td>9.0</td>\n",
       "      <td>82.0</td>\n",
       "    </tr>\n",
       "    <tr>\n",
       "      <th>20197714</th>\n",
       "      <td>1.0</td>\n",
       "      <td>428.0</td>\n",
       "      <td>130.0</td>\n",
       "      <td>14.0</td>\n",
       "      <td>1.0</td>\n",
       "      <td>48.0</td>\n",
       "      <td>2.0</td>\n",
       "      <td>11292.0</td>\n",
       "      <td>12.0</td>\n",
       "      <td>7.0</td>\n",
       "      <td>...</td>\n",
       "      <td>116.0</td>\n",
       "      <td>0.0</td>\n",
       "      <td>10.0</td>\n",
       "      <td>1029.0</td>\n",
       "      <td>28.0</td>\n",
       "      <td>35.0</td>\n",
       "      <td>10.0</td>\n",
       "      <td>40.0</td>\n",
       "      <td>37.0</td>\n",
       "      <td>81.0</td>\n",
       "    </tr>\n",
       "    <tr>\n",
       "      <th>20197715</th>\n",
       "      <td>1.0</td>\n",
       "      <td>428.0</td>\n",
       "      <td>130.0</td>\n",
       "      <td>14.0</td>\n",
       "      <td>1.0</td>\n",
       "      <td>48.0</td>\n",
       "      <td>2.0</td>\n",
       "      <td>11292.0</td>\n",
       "      <td>12.0</td>\n",
       "      <td>7.0</td>\n",
       "      <td>...</td>\n",
       "      <td>113.0</td>\n",
       "      <td>0.0</td>\n",
       "      <td>10.0</td>\n",
       "      <td>1018.0</td>\n",
       "      <td>0.0</td>\n",
       "      <td>6.0</td>\n",
       "      <td>30.0</td>\n",
       "      <td>45.0</td>\n",
       "      <td>40.0</td>\n",
       "      <td>20.0</td>\n",
       "    </tr>\n",
       "    <tr>\n",
       "      <th>20197716</th>\n",
       "      <td>1.0</td>\n",
       "      <td>428.0</td>\n",
       "      <td>130.0</td>\n",
       "      <td>14.0</td>\n",
       "      <td>1.0</td>\n",
       "      <td>48.0</td>\n",
       "      <td>2.0</td>\n",
       "      <td>11292.0</td>\n",
       "      <td>12.0</td>\n",
       "      <td>7.0</td>\n",
       "      <td>...</td>\n",
       "      <td>113.0</td>\n",
       "      <td>0.0</td>\n",
       "      <td>10.0</td>\n",
       "      <td>1018.0</td>\n",
       "      <td>0.0</td>\n",
       "      <td>36.0</td>\n",
       "      <td>18.0</td>\n",
       "      <td>49.0</td>\n",
       "      <td>48.0</td>\n",
       "      <td>60.0</td>\n",
       "    </tr>\n",
       "    <tr>\n",
       "      <th>20197717</th>\n",
       "      <td>1.0</td>\n",
       "      <td>428.0</td>\n",
       "      <td>130.0</td>\n",
       "      <td>14.0</td>\n",
       "      <td>1.0</td>\n",
       "      <td>48.0</td>\n",
       "      <td>2.0</td>\n",
       "      <td>11292.0</td>\n",
       "      <td>12.0</td>\n",
       "      <td>7.0</td>\n",
       "      <td>...</td>\n",
       "      <td>113.0</td>\n",
       "      <td>0.0</td>\n",
       "      <td>10.0</td>\n",
       "      <td>1018.0</td>\n",
       "      <td>0.0</td>\n",
       "      <td>50.0</td>\n",
       "      <td>9.0</td>\n",
       "      <td>59.0</td>\n",
       "      <td>59.0</td>\n",
       "      <td>73.0</td>\n",
       "    </tr>\n",
       "  </tbody>\n",
       "</table>\n",
       "<p>20197718 rows × 26 columns</p>\n",
       "</div>"
      ],
      "text/plain": [
       "          ArrDel15  CRSArrTime  CRSDepTime  DayofMonth  DepDel15  \\\n",
       "0              0.0      1602.0       745.0         1.0       0.0   \n",
       "1              0.0      1602.0       745.0         1.0       0.0   \n",
       "2              0.0      1602.0       745.0         1.0       0.0   \n",
       "3              0.0      1602.0       745.0         1.0       0.0   \n",
       "4              0.0      1602.0       745.0         1.0       0.0   \n",
       "...            ...         ...         ...         ...       ...   \n",
       "20197713       1.0       428.0       130.0        14.0       1.0   \n",
       "20197714       1.0       428.0       130.0        14.0       1.0   \n",
       "20197715       1.0       428.0       130.0        14.0       1.0   \n",
       "20197716       1.0       428.0       130.0        14.0       1.0   \n",
       "20197717       1.0       428.0       130.0        14.0       1.0   \n",
       "\n",
       "          DepDelayMinutes  Dest  DestAirportID  Month  Origin  ...  \\\n",
       "0                     0.0   6.0        12478.0    1.0    13.0  ...   \n",
       "1                     0.0   6.0        12478.0    1.0    13.0  ...   \n",
       "2                     0.0   6.0        12478.0    1.0    13.0  ...   \n",
       "3                     0.0   6.0        12478.0    1.0    13.0  ...   \n",
       "4                     0.0   6.0        12478.0    1.0    13.0  ...   \n",
       "...                   ...   ...            ...    ...     ...  ...   \n",
       "20197713             48.0   2.0        11292.0   12.0     7.0  ...   \n",
       "20197714             48.0   2.0        11292.0   12.0     7.0  ...   \n",
       "20197715             48.0   2.0        11292.0   12.0     7.0  ...   \n",
       "20197716             48.0   2.0        11292.0   12.0     7.0  ...   \n",
       "20197717             48.0   2.0        11292.0   12.0     7.0  ...   \n",
       "\n",
       "          weatherCode  precipMM  visibility  pressure  cloudcover  DewPointF  \\\n",
       "0               296.0       1.4         9.0    1029.0       100.0       42.0   \n",
       "1               113.0       0.0        10.0    1045.0         0.0       -2.0   \n",
       "2               113.0       0.0        10.0    1020.0         1.0       30.0   \n",
       "3               122.0       0.0        10.0    1025.0       100.0       38.0   \n",
       "4               143.0       0.0         4.0    1023.0        93.0       43.0   \n",
       "...               ...       ...         ...       ...         ...        ...   \n",
       "20197713        122.0       0.0         6.0    1011.0        70.0       17.0   \n",
       "20197714        116.0       0.0        10.0    1029.0        28.0       35.0   \n",
       "20197715        113.0       0.0        10.0    1018.0         0.0        6.0   \n",
       "20197716        113.0       0.0        10.0    1018.0         0.0       36.0   \n",
       "20197717        113.0       0.0        10.0    1018.0         0.0       50.0   \n",
       "\n",
       "          WindGustKmph  tempF  WindChillF  humidity  \n",
       "0                 27.0   47.0        41.0      84.0  \n",
       "1                 21.0    3.0        -9.0      80.0  \n",
       "2                 15.0   51.0        47.0      46.0  \n",
       "3                 23.0   42.0        34.0      92.0  \n",
       "4                 12.0   46.0        43.0      92.0  \n",
       "...                ...    ...         ...       ...  \n",
       "20197713          26.0   22.0         9.0      82.0  \n",
       "20197714          10.0   40.0        37.0      81.0  \n",
       "20197715          30.0   45.0        40.0      20.0  \n",
       "20197716          18.0   49.0        48.0      60.0  \n",
       "20197717           9.0   59.0        59.0      73.0  \n",
       "\n",
       "[20197718 rows x 26 columns]"
      ]
     },
     "execution_count": 8,
     "metadata": {},
     "output_type": "execute_result"
    }
   ],
   "source": [
    "import pandas as pd\n",
    "import numpy as np\n",
    "\n",
    "def clean_dataset(df):\n",
    "    assert isinstance(df, pd.DataFrame)\n",
    "    df.dropna(inplace=True)\n",
    "    indices_to_keep = ~df.isin([np.nan, np.inf, -np.inf]).any(1)\n",
    "    return df[indices_to_keep].astype(np.float64)\n",
    "clean_dataset(frame)"
   ]
  },
  {
   "cell_type": "markdown",
   "id": "3aa0f174-5379-4395-a1ca-14820f67fde0",
   "metadata": {},
   "source": [
    "### 2. Target to be predicted is if a flight is delayed or not based on the weather. Features from weather and flight data are considered for prediction"
   ]
  },
  {
   "cell_type": "markdown",
   "id": "8c532576-c85d-40b4-bf78-6e12d0209431",
   "metadata": {},
   "source": [
    "#### Splitting into training and testing sets"
   ]
  },
  {
   "cell_type": "code",
   "execution_count": 9,
   "id": "deb09614-a6d5-4af4-b3dd-caa9466e4cda",
   "metadata": {},
   "outputs": [],
   "source": [
    "y = frame['ArrDel15']\n",
    "X = frame.drop(columns = ['ArrDel15'])\n",
    "\n",
    "from sklearn.model_selection import train_test_split\n",
    "X_train, X_test, y_train, y_test = train_test_split(X, y, train_size=0.7)"
   ]
  },
  {
   "cell_type": "markdown",
   "id": "f0567d32-08c2-487c-b87e-9f5ceb425872",
   "metadata": {},
   "source": [
    "### 3. Decision Tree Classifier"
   ]
  },
  {
   "cell_type": "code",
   "execution_count": 10,
   "id": "79b92a5f-bb30-4e58-9123-0f0d7588e923",
   "metadata": {},
   "outputs": [
    {
     "data": {
      "text/plain": [
       "DecisionTreeClassifier(criterion='entropy', max_depth=2, random_state=0)"
      ]
     },
     "execution_count": 10,
     "metadata": {},
     "output_type": "execute_result"
    }
   ],
   "source": [
    "from sklearn.tree import DecisionTreeClassifier\n",
    "classifier = DecisionTreeClassifier(criterion = 'entropy', random_state = 0, splitter = 'best', max_depth = 2)\n",
    "classifier.fit(X_train, y_train)"
   ]
  },
  {
   "cell_type": "markdown",
   "id": "cdd5f0e9-c606-409d-86c8-fb846d09e08b",
   "metadata": {},
   "source": [
    "#### Computing values for Decision tree"
   ]
  },
  {
   "cell_type": "code",
   "execution_count": 11,
   "id": "b71bd3d7-19d0-4b53-8146-dc0bd852c4d4",
   "metadata": {},
   "outputs": [],
   "source": [
    "y_pred = classifier.predict(X_test)\n"
   ]
  },
  {
   "cell_type": "markdown",
   "id": "4d8bcb33-bc14-4cb3-8c49-3255a1789dee",
   "metadata": {},
   "source": [
    "#### Computing metrics for Decision tree"
   ]
  },
  {
   "cell_type": "code",
   "execution_count": 12,
   "id": "893ca24c-f3dd-40f9-8189-4918d96b5c8e",
   "metadata": {},
   "outputs": [
    {
     "name": "stdout",
     "output_type": "stream",
     "text": [
      "[[4667479  109952]\n",
      " [ 404352  877533]]\n",
      "accuracy:  0.9151217728205626\n",
      "precision:  0.8886545112077652\n",
      "Recall:  0.6845645280192841\n",
      "f1_score: 0.773371464327104\n"
     ]
    }
   ],
   "source": [
    "from sklearn.metrics import confusion_matrix, accuracy_score, precision_score, recall_score, f1_score\n",
    "cm = confusion_matrix(y_test, y_pred)\n",
    "print(cm)\n",
    "print(\"accuracy: \",accuracy_score(y_test, y_pred))\n",
    "print(\"precision: \",precision_score(y_test, y_pred))\n",
    "print(\"Recall: \", recall_score(y_test, y_pred))\n",
    "print(\"f1_score:\", f1_score(y_test, y_pred))\n",
    "\n"
   ]
  },
  {
   "cell_type": "markdown",
   "id": "ea249c26-2170-4f82-b44b-2ac50298d283",
   "metadata": {},
   "source": [
    "### 4. Training the Support vector Classifier on Training Model"
   ]
  },
  {
   "cell_type": "code",
   "execution_count": 13,
   "id": "debb3689-a4ba-47f2-977f-75697f086f25",
   "metadata": {},
   "outputs": [
    {
     "data": {
      "text/plain": [
       "GaussianNB()"
      ]
     },
     "execution_count": 13,
     "metadata": {},
     "output_type": "execute_result"
    }
   ],
   "source": [
    "from sklearn.naive_bayes import GaussianNB\n",
    "gnb = GaussianNB()\n",
    "gnb.fit(X_train, y_train)\n",
    "  "
   ]
  },
  {
   "cell_type": "markdown",
   "id": "6b45faf9-ff9a-4abd-a53f-498e7957505b",
   "metadata": {},
   "source": [
    "#### Computing values for test set for SVC"
   ]
  },
  {
   "cell_type": "code",
   "execution_count": 14,
   "id": "98d77eef-676d-4514-ba47-dd7d5eda6180",
   "metadata": {},
   "outputs": [],
   "source": [
    "y_pred = gnb.predict(X_test)"
   ]
  },
  {
   "cell_type": "markdown",
   "id": "0eee36b3-cae1-4e2e-a2cd-291e2a048ee1",
   "metadata": {},
   "source": [
    "#### Computing metrics for SVC"
   ]
  },
  {
   "cell_type": "code",
   "execution_count": 15,
   "id": "dd326606-7193-499c-bfe1-9fda0b3fe8c9",
   "metadata": {},
   "outputs": [
    {
     "name": "stdout",
     "output_type": "stream",
     "text": [
      "[[4517561  259870]\n",
      " [ 315764  966121]]\n"
     ]
    },
    {
     "data": {
      "text/plain": [
       "0.905000168335832"
      ]
     },
     "execution_count": 15,
     "metadata": {},
     "output_type": "execute_result"
    }
   ],
   "source": [
    "from sklearn.metrics import confusion_matrix, accuracy_score\n",
    "cm = confusion_matrix(y_test, y_pred)\n",
    "print(cm)\n",
    "accuracy_score(y_test, y_pred)"
   ]
  },
  {
   "cell_type": "markdown",
   "id": "8e666ca2-cf57-4bb7-b8e6-b1b3f274d6e6",
   "metadata": {},
   "source": [
    "### 5. Results - Accuracy for SVC is 91% which is almost same as the accuracy of Naive Bayes Classifier that is 90%. "
   ]
  },
  {
   "cell_type": "markdown",
   "id": "fb2387e7-c885-44ed-8532-1108468faf36",
   "metadata": {},
   "source": [
    "### 6. Final Evaluation with test set"
   ]
  },
  {
   "cell_type": "code",
   "execution_count": 16,
   "id": "7e52b5d3-0ddc-40e7-8e2c-95c4ce3b4a8e",
   "metadata": {},
   "outputs": [],
   "source": [
    "y_prediction=classifier.predict(X_test)"
   ]
  },
  {
   "cell_type": "code",
   "execution_count": 17,
   "id": "20571e2d-8ef0-4ec2-8e62-73a1889a28f7",
   "metadata": {},
   "outputs": [
    {
     "name": "stdout",
     "output_type": "stream",
     "text": [
      "[0. 0. 0. ... 0. 0. 0.]\n"
     ]
    }
   ],
   "source": [
    "print(y_prediction)"
   ]
  },
  {
   "cell_type": "code",
   "execution_count": 19,
   "id": "1c3ad1ad-8efa-4148-86f9-8127a402b0aa",
   "metadata": {},
   "outputs": [],
   "source": [
    "y_pred_svc=gnb.predict(X_test)"
   ]
  },
  {
   "cell_type": "code",
   "execution_count": 20,
   "id": "ade6d405-268f-4bc7-9b96-d6549932e229",
   "metadata": {},
   "outputs": [
    {
     "name": "stdout",
     "output_type": "stream",
     "text": [
      "[0. 0. 1. ... 0. 0. 0.]\n"
     ]
    }
   ],
   "source": [
    "print(y_pred_svc)"
   ]
  },
  {
   "cell_type": "markdown",
   "id": "bac33b97-4a6b-4a68-ae6e-0ae0d2e487db",
   "metadata": {},
   "source": [
    "### 7. Parameters found and things learnt\n",
    "\n",
    "random_state, splitter, max_depth are the parameters used in decision tree classifier. I used best for splitter and max depth as 2, If I increase max depth then it leads to overfitting."
   ]
  },
  {
   "cell_type": "markdown",
   "id": "ed340884-5471-4fcc-b6c8-915968710436",
   "metadata": {},
   "source": [
    "From this project milestone, I have learnt that- If there are n features and a target variable which is a categorical one,\n",
    "then using the classifier algorithms, a model can be generated by giving the labelled training data to the model.\n",
    "The model learns the patterns that are present in the training data and this patterns can be used to predict the values of the testing data."
   ]
  },
  {
   "cell_type": "code",
   "execution_count": null,
   "id": "4467d2e9-30bc-4dd5-ae00-78df61168043",
   "metadata": {},
   "outputs": [],
   "source": []
  }
 ],
 "metadata": {
  "kernelspec": {
   "display_name": "Python 3 (ipykernel)",
   "language": "python",
   "name": "python3"
  },
  "language_info": {
   "codemirror_mode": {
    "name": "ipython",
    "version": 3
   },
   "file_extension": ".py",
   "mimetype": "text/x-python",
   "name": "python",
   "nbconvert_exporter": "python",
   "pygments_lexer": "ipython3",
   "version": "3.10.9"
  }
 },
 "nbformat": 4,
 "nbformat_minor": 5
}
