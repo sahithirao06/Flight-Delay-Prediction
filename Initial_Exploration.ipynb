{
 "cells": [
  {
   "cell_type": "markdown",
   "id": "ef8d1d70-6c7d-4bc6-b680-e9b17a7bb44d",
   "metadata": {},
   "source": [
    "### NOTE - JSONError while loading the weather data can be ignored as it is not impacting the process/project"
   ]
  },
  {
   "cell_type": "markdown",
   "id": "68313a0d-ba29-4c59-b2f0-c9423aa180f5",
   "metadata": {},
   "source": [
    "### Importing Libraries"
   ]
  },
  {
   "cell_type": "code",
   "execution_count": 1,
   "id": "cb543883-6bea-4af1-bd75-0089d9530f6d",
   "metadata": {},
   "outputs": [],
   "source": [
    "import pandas as pd\n",
    "import warnings\n",
    "warnings.filterwarnings('ignore')"
   ]
  },
  {
   "cell_type": "code",
   "execution_count": 2,
   "id": "2eef2336-8820-4131-9265-039b8177aec7",
   "metadata": {},
   "outputs": [],
   "source": [
    "airport_list = ['ATL', 'CLT', 'DEN', 'DFW', 'EWR', 'IAH', 'JFK', 'LAS', \n",
    "                'LAX', 'MCO', 'MIA', 'ORD', 'PHX', 'SEA', 'SFO']"
   ]
  },
  {
   "cell_type": "markdown",
   "id": "431bfd75-c511-447e-8f39-a518a0bbf668",
   "metadata": {},
   "source": [
    "### 1. Loading the datset and looking into it"
   ]
  },
  {
   "cell_type": "code",
   "execution_count": 3,
   "id": "f72b84d1-d4fa-4967-a16b-296ee8890218",
   "metadata": {},
   "outputs": [
    {
     "data": {
      "text/html": [
       "<div>\n",
       "<style scoped>\n",
       "    .dataframe tbody tr th:only-of-type {\n",
       "        vertical-align: middle;\n",
       "    }\n",
       "\n",
       "    .dataframe tbody tr th {\n",
       "        vertical-align: top;\n",
       "    }\n",
       "\n",
       "    .dataframe thead th {\n",
       "        text-align: right;\n",
       "    }\n",
       "</style>\n",
       "<table border=\"1\" class=\"dataframe\">\n",
       "  <thead>\n",
       "    <tr style=\"text-align: right;\">\n",
       "      <th></th>\n",
       "      <th>Year</th>\n",
       "      <th>Quarter</th>\n",
       "      <th>Month</th>\n",
       "      <th>DayofMonth</th>\n",
       "      <th>DayOfWeek</th>\n",
       "      <th>FlightDate</th>\n",
       "      <th>UniqueCarrier</th>\n",
       "      <th>AirlineID</th>\n",
       "      <th>Carrier</th>\n",
       "      <th>TailNum</th>\n",
       "      <th>...</th>\n",
       "      <th>Div4TailNum</th>\n",
       "      <th>Div5Airport</th>\n",
       "      <th>Div5AirportID</th>\n",
       "      <th>Div5AirportSeqID</th>\n",
       "      <th>Div5WheelsOn</th>\n",
       "      <th>Div5TotalGTime</th>\n",
       "      <th>Div5LongestGTime</th>\n",
       "      <th>Div5WheelsOff</th>\n",
       "      <th>Div5TailNum</th>\n",
       "      <th>Unnamed: 109</th>\n",
       "    </tr>\n",
       "  </thead>\n",
       "  <tbody>\n",
       "    <tr>\n",
       "      <th>0</th>\n",
       "      <td>2016</td>\n",
       "      <td>1</td>\n",
       "      <td>1</td>\n",
       "      <td>6</td>\n",
       "      <td>3</td>\n",
       "      <td>2016-01-06</td>\n",
       "      <td>AA</td>\n",
       "      <td>19805</td>\n",
       "      <td>AA</td>\n",
       "      <td>N4YBAA</td>\n",
       "      <td>...</td>\n",
       "      <td>NaN</td>\n",
       "      <td>NaN</td>\n",
       "      <td>NaN</td>\n",
       "      <td>NaN</td>\n",
       "      <td>NaN</td>\n",
       "      <td>NaN</td>\n",
       "      <td>NaN</td>\n",
       "      <td>NaN</td>\n",
       "      <td>NaN</td>\n",
       "      <td>NaN</td>\n",
       "    </tr>\n",
       "    <tr>\n",
       "      <th>1</th>\n",
       "      <td>2016</td>\n",
       "      <td>1</td>\n",
       "      <td>1</td>\n",
       "      <td>7</td>\n",
       "      <td>4</td>\n",
       "      <td>2016-01-07</td>\n",
       "      <td>AA</td>\n",
       "      <td>19805</td>\n",
       "      <td>AA</td>\n",
       "      <td>N434AA</td>\n",
       "      <td>...</td>\n",
       "      <td>NaN</td>\n",
       "      <td>NaN</td>\n",
       "      <td>NaN</td>\n",
       "      <td>NaN</td>\n",
       "      <td>NaN</td>\n",
       "      <td>NaN</td>\n",
       "      <td>NaN</td>\n",
       "      <td>NaN</td>\n",
       "      <td>NaN</td>\n",
       "      <td>NaN</td>\n",
       "    </tr>\n",
       "    <tr>\n",
       "      <th>2</th>\n",
       "      <td>2016</td>\n",
       "      <td>1</td>\n",
       "      <td>1</td>\n",
       "      <td>8</td>\n",
       "      <td>5</td>\n",
       "      <td>2016-01-08</td>\n",
       "      <td>AA</td>\n",
       "      <td>19805</td>\n",
       "      <td>AA</td>\n",
       "      <td>N541AA</td>\n",
       "      <td>...</td>\n",
       "      <td>NaN</td>\n",
       "      <td>NaN</td>\n",
       "      <td>NaN</td>\n",
       "      <td>NaN</td>\n",
       "      <td>NaN</td>\n",
       "      <td>NaN</td>\n",
       "      <td>NaN</td>\n",
       "      <td>NaN</td>\n",
       "      <td>NaN</td>\n",
       "      <td>NaN</td>\n",
       "    </tr>\n",
       "    <tr>\n",
       "      <th>3</th>\n",
       "      <td>2016</td>\n",
       "      <td>1</td>\n",
       "      <td>1</td>\n",
       "      <td>9</td>\n",
       "      <td>6</td>\n",
       "      <td>2016-01-09</td>\n",
       "      <td>AA</td>\n",
       "      <td>19805</td>\n",
       "      <td>AA</td>\n",
       "      <td>N489AA</td>\n",
       "      <td>...</td>\n",
       "      <td>NaN</td>\n",
       "      <td>NaN</td>\n",
       "      <td>NaN</td>\n",
       "      <td>NaN</td>\n",
       "      <td>NaN</td>\n",
       "      <td>NaN</td>\n",
       "      <td>NaN</td>\n",
       "      <td>NaN</td>\n",
       "      <td>NaN</td>\n",
       "      <td>NaN</td>\n",
       "    </tr>\n",
       "    <tr>\n",
       "      <th>4</th>\n",
       "      <td>2016</td>\n",
       "      <td>1</td>\n",
       "      <td>1</td>\n",
       "      <td>10</td>\n",
       "      <td>7</td>\n",
       "      <td>2016-01-10</td>\n",
       "      <td>AA</td>\n",
       "      <td>19805</td>\n",
       "      <td>AA</td>\n",
       "      <td>N439AA</td>\n",
       "      <td>...</td>\n",
       "      <td>NaN</td>\n",
       "      <td>NaN</td>\n",
       "      <td>NaN</td>\n",
       "      <td>NaN</td>\n",
       "      <td>NaN</td>\n",
       "      <td>NaN</td>\n",
       "      <td>NaN</td>\n",
       "      <td>NaN</td>\n",
       "      <td>NaN</td>\n",
       "      <td>NaN</td>\n",
       "    </tr>\n",
       "  </tbody>\n",
       "</table>\n",
       "<p>5 rows × 110 columns</p>\n",
       "</div>"
      ],
      "text/plain": [
       "   Year  Quarter  Month  DayofMonth  DayOfWeek  FlightDate UniqueCarrier  \\\n",
       "0  2016        1      1           6          3  2016-01-06            AA   \n",
       "1  2016        1      1           7          4  2016-01-07            AA   \n",
       "2  2016        1      1           8          5  2016-01-08            AA   \n",
       "3  2016        1      1           9          6  2016-01-09            AA   \n",
       "4  2016        1      1          10          7  2016-01-10            AA   \n",
       "\n",
       "   AirlineID Carrier TailNum  ...  Div4TailNum  Div5Airport  Div5AirportID  \\\n",
       "0      19805      AA  N4YBAA  ...          NaN          NaN            NaN   \n",
       "1      19805      AA  N434AA  ...          NaN          NaN            NaN   \n",
       "2      19805      AA  N541AA  ...          NaN          NaN            NaN   \n",
       "3      19805      AA  N489AA  ...          NaN          NaN            NaN   \n",
       "4      19805      AA  N439AA  ...          NaN          NaN            NaN   \n",
       "\n",
       "   Div5AirportSeqID Div5WheelsOn Div5TotalGTime Div5LongestGTime  \\\n",
       "0               NaN          NaN            NaN              NaN   \n",
       "1               NaN          NaN            NaN              NaN   \n",
       "2               NaN          NaN            NaN              NaN   \n",
       "3               NaN          NaN            NaN              NaN   \n",
       "4               NaN          NaN            NaN              NaN   \n",
       "\n",
       "   Div5WheelsOff Div5TailNum  Unnamed: 109  \n",
       "0            NaN         NaN           NaN  \n",
       "1            NaN         NaN           NaN  \n",
       "2            NaN         NaN           NaN  \n",
       "3            NaN         NaN           NaN  \n",
       "4            NaN         NaN           NaN  \n",
       "\n",
       "[5 rows x 110 columns]"
      ]
     },
     "execution_count": 3,
     "metadata": {},
     "output_type": "execute_result"
    }
   ],
   "source": [
    "df_2016 = pd.read_csv('Flight/2016/On_Time_On_Time_Performance_2016_1.csv')\n",
    "df_2016.head()"
   ]
  },
  {
   "cell_type": "code",
   "execution_count": 4,
   "id": "42067b20-f8b6-4a82-9ca4-f847b4443961",
   "metadata": {},
   "outputs": [
    {
     "name": "stdout",
     "output_type": "stream",
     "text": [
      "<class 'pandas.core.frame.DataFrame'>\n",
      "RangeIndex: 445827 entries, 0 to 445826\n",
      "Columns: 110 entries, Year to Unnamed: 109\n",
      "dtypes: float64(71), int64(21), object(18)\n",
      "memory usage: 374.2+ MB\n"
     ]
    }
   ],
   "source": [
    "df_2016.info()"
   ]
  },
  {
   "cell_type": "code",
   "execution_count": 5,
   "id": "0cdb688c-ee44-4dd2-a6f4-e87776b7227b",
   "metadata": {},
   "outputs": [],
   "source": [
    "df_main1 = pd.DataFrame()\n",
    "for i in range(1, 13):\n",
    "    path = r\"Flight/2016/On_Time_On_Time_Performance_2016_\" +str(i)+'.csv'\n",
    "    df = pd.read_csv(path)\n",
    "\n",
    "    df1 = df[df['Origin'].isin(airport_list)]\n",
    "    df2 = df1[df1['Dest'].isin(airport_list)]\n",
    "\n",
    "    if i == 1:\n",
    "        temp_df = pd.DataFrame()\n",
    "        df_main1 = temp_df.append(df2,ignore_index = True)\n",
    "    else:\n",
    "        df_main1 = df_main1.append(df2,ignore_index = True)"
   ]
  },
  {
   "cell_type": "code",
   "execution_count": 6,
   "id": "c91cd866-5f00-4c19-9cb5-efc2a8f3c00a",
   "metadata": {},
   "outputs": [
    {
     "data": {
      "text/plain": [
       "(948819, 110)"
      ]
     },
     "execution_count": 6,
     "metadata": {},
     "output_type": "execute_result"
    }
   ],
   "source": [
    "df_main1.shape"
   ]
  },
  {
   "cell_type": "code",
   "execution_count": 7,
   "id": "a5d83f11-a280-4ffa-b0b8-b61c4f6985d1",
   "metadata": {},
   "outputs": [],
   "source": [
    "df_2017 = pd.read_csv('Flight/2017/On_Time_On_Time_Performance_2017_1.csv')"
   ]
  },
  {
   "cell_type": "code",
   "execution_count": 8,
   "id": "cd302695-2eba-4321-8f7a-057bb3de0b00",
   "metadata": {},
   "outputs": [],
   "source": [
    "df_main2 = pd.DataFrame()\n",
    "for i in range(1, 13):\n",
    "    path = r\"Flight/2017/On_Time_On_Time_Performance_2017_\" +str(i)+'.csv'\n",
    "    df = pd.read_csv(path)\n",
    "    df1 = df[df['Origin'].isin(airport_list)]\n",
    "    df2 = df1[df1['Dest'].isin(airport_list)]\n",
    "    if i == 1:\n",
    "        temp_df = pd.DataFrame()\n",
    "        df_main2 = temp_df.append(df2,ignore_index = True)\n",
    "    else:\n",
    "        df_main2 = df_main2.append(df2,ignore_index = True)"
   ]
  },
  {
   "cell_type": "markdown",
   "id": "30ae73df-a54d-4d33-ad62-66f3c463e8b4",
   "metadata": {},
   "source": [
    "### 4. Loading and data preprocessing of flight dataset"
   ]
  },
  {
   "cell_type": "code",
   "execution_count": 9,
   "id": "c14675b3-6768-477a-9ddc-66cf52a5b408",
   "metadata": {},
   "outputs": [],
   "source": [
    "final_df = df_main1.append(df_main2,ignore_index = True)"
   ]
  },
  {
   "cell_type": "code",
   "execution_count": 10,
   "id": "27b9588b-b895-474e-b85f-d841d8175437",
   "metadata": {},
   "outputs": [],
   "source": [
    "cols = ['ArrDel15', 'ArrDelayMinutes', 'ArrTime', 'CRSArrTime', 'CRSDepTime', 'DayofMonth', 'DepDel15', 'DepDelayMinutes', \n",
    "        'DepTime', 'Dest', 'DestAirportID', 'FlightDate', 'Month', 'Origin', 'OriginAirportID', 'Quarter', 'Year']\n",
    "\n",
    "final_df = final_df[[col for col in cols]]\n",
    "\n",
    "final_df = final_df.dropna(how = 'any')"
   ]
  },
  {
   "cell_type": "code",
   "execution_count": 11,
   "id": "634c330d-2ffb-41bc-b4a7-eb960d84da0e",
   "metadata": {},
   "outputs": [
    {
     "data": {
      "text/html": [
       "<div>\n",
       "<style scoped>\n",
       "    .dataframe tbody tr th:only-of-type {\n",
       "        vertical-align: middle;\n",
       "    }\n",
       "\n",
       "    .dataframe tbody tr th {\n",
       "        vertical-align: top;\n",
       "    }\n",
       "\n",
       "    .dataframe thead th {\n",
       "        text-align: right;\n",
       "    }\n",
       "</style>\n",
       "<table border=\"1\" class=\"dataframe\">\n",
       "  <thead>\n",
       "    <tr style=\"text-align: right;\">\n",
       "      <th></th>\n",
       "      <th>ArrDel15</th>\n",
       "      <th>ArrDelayMinutes</th>\n",
       "      <th>ArrTime</th>\n",
       "      <th>CRSArrTime</th>\n",
       "      <th>CRSDepTime</th>\n",
       "      <th>DayofMonth</th>\n",
       "      <th>DepDel15</th>\n",
       "      <th>DepDelayMinutes</th>\n",
       "      <th>DepTime</th>\n",
       "      <th>Dest</th>\n",
       "      <th>DestAirportID</th>\n",
       "      <th>FlightDate</th>\n",
       "      <th>Month</th>\n",
       "      <th>Origin</th>\n",
       "      <th>OriginAirportID</th>\n",
       "      <th>Quarter</th>\n",
       "      <th>Year</th>\n",
       "    </tr>\n",
       "  </thead>\n",
       "  <tbody>\n",
       "    <tr>\n",
       "      <th>0</th>\n",
       "      <td>0.0</td>\n",
       "      <td>8.0</td>\n",
       "      <td>1610.0</td>\n",
       "      <td>1602</td>\n",
       "      <td>745</td>\n",
       "      <td>1</td>\n",
       "      <td>0.0</td>\n",
       "      <td>0.0</td>\n",
       "      <td>741.0</td>\n",
       "      <td>JFK</td>\n",
       "      <td>12478</td>\n",
       "      <td>2016-01-01</td>\n",
       "      <td>1</td>\n",
       "      <td>SEA</td>\n",
       "      <td>14747</td>\n",
       "      <td>1</td>\n",
       "      <td>2016</td>\n",
       "    </tr>\n",
       "    <tr>\n",
       "      <th>1</th>\n",
       "      <td>0.0</td>\n",
       "      <td>11.0</td>\n",
       "      <td>1613.0</td>\n",
       "      <td>1602</td>\n",
       "      <td>745</td>\n",
       "      <td>2</td>\n",
       "      <td>0.0</td>\n",
       "      <td>0.0</td>\n",
       "      <td>737.0</td>\n",
       "      <td>JFK</td>\n",
       "      <td>12478</td>\n",
       "      <td>2016-01-02</td>\n",
       "      <td>1</td>\n",
       "      <td>SEA</td>\n",
       "      <td>14747</td>\n",
       "      <td>1</td>\n",
       "      <td>2016</td>\n",
       "    </tr>\n",
       "    <tr>\n",
       "      <th>2</th>\n",
       "      <td>0.0</td>\n",
       "      <td>0.0</td>\n",
       "      <td>1547.0</td>\n",
       "      <td>1602</td>\n",
       "      <td>745</td>\n",
       "      <td>3</td>\n",
       "      <td>0.0</td>\n",
       "      <td>0.0</td>\n",
       "      <td>743.0</td>\n",
       "      <td>JFK</td>\n",
       "      <td>12478</td>\n",
       "      <td>2016-01-03</td>\n",
       "      <td>1</td>\n",
       "      <td>SEA</td>\n",
       "      <td>14747</td>\n",
       "      <td>1</td>\n",
       "      <td>2016</td>\n",
       "    </tr>\n",
       "    <tr>\n",
       "      <th>3</th>\n",
       "      <td>0.0</td>\n",
       "      <td>0.0</td>\n",
       "      <td>1551.0</td>\n",
       "      <td>1602</td>\n",
       "      <td>745</td>\n",
       "      <td>4</td>\n",
       "      <td>0.0</td>\n",
       "      <td>0.0</td>\n",
       "      <td>737.0</td>\n",
       "      <td>JFK</td>\n",
       "      <td>12478</td>\n",
       "      <td>2016-01-04</td>\n",
       "      <td>1</td>\n",
       "      <td>SEA</td>\n",
       "      <td>14747</td>\n",
       "      <td>1</td>\n",
       "      <td>2016</td>\n",
       "    </tr>\n",
       "    <tr>\n",
       "      <th>4</th>\n",
       "      <td>0.0</td>\n",
       "      <td>0.0</td>\n",
       "      <td>1524.0</td>\n",
       "      <td>1527</td>\n",
       "      <td>710</td>\n",
       "      <td>5</td>\n",
       "      <td>0.0</td>\n",
       "      <td>0.0</td>\n",
       "      <td>708.0</td>\n",
       "      <td>JFK</td>\n",
       "      <td>12478</td>\n",
       "      <td>2016-01-05</td>\n",
       "      <td>1</td>\n",
       "      <td>SEA</td>\n",
       "      <td>14747</td>\n",
       "      <td>1</td>\n",
       "      <td>2016</td>\n",
       "    </tr>\n",
       "  </tbody>\n",
       "</table>\n",
       "</div>"
      ],
      "text/plain": [
       "   ArrDel15  ArrDelayMinutes  ArrTime  CRSArrTime  CRSDepTime  DayofMonth  \\\n",
       "0       0.0              8.0   1610.0        1602         745           1   \n",
       "1       0.0             11.0   1613.0        1602         745           2   \n",
       "2       0.0              0.0   1547.0        1602         745           3   \n",
       "3       0.0              0.0   1551.0        1602         745           4   \n",
       "4       0.0              0.0   1524.0        1527         710           5   \n",
       "\n",
       "   DepDel15  DepDelayMinutes  DepTime Dest  DestAirportID  FlightDate  Month  \\\n",
       "0       0.0              0.0    741.0  JFK          12478  2016-01-01      1   \n",
       "1       0.0              0.0    737.0  JFK          12478  2016-01-02      1   \n",
       "2       0.0              0.0    743.0  JFK          12478  2016-01-03      1   \n",
       "3       0.0              0.0    737.0  JFK          12478  2016-01-04      1   \n",
       "4       0.0              0.0    708.0  JFK          12478  2016-01-05      1   \n",
       "\n",
       "  Origin  OriginAirportID  Quarter  Year  \n",
       "0    SEA            14747        1  2016  \n",
       "1    SEA            14747        1  2016  \n",
       "2    SEA            14747        1  2016  \n",
       "3    SEA            14747        1  2016  \n",
       "4    SEA            14747        1  2016  "
      ]
     },
     "execution_count": 11,
     "metadata": {},
     "output_type": "execute_result"
    }
   ],
   "source": [
    "final_df.head()"
   ]
  },
  {
   "cell_type": "code",
   "execution_count": 12,
   "id": "bde20b09-763b-4a16-b223-f1ab4dc9ee74",
   "metadata": {},
   "outputs": [],
   "source": [
    "final_df.to_csv(r'/Users/n.dammannagari/Downloads/FDP/Flight_Data.csv',index = False)"
   ]
  },
  {
   "cell_type": "code",
   "execution_count": 13,
   "id": "75513232-7922-446f-b1cc-494019f9f0c3",
   "metadata": {},
   "outputs": [
    {
     "data": {
      "text/html": [
       "<div>\n",
       "<style scoped>\n",
       "    .dataframe tbody tr th:only-of-type {\n",
       "        vertical-align: middle;\n",
       "    }\n",
       "\n",
       "    .dataframe tbody tr th {\n",
       "        vertical-align: top;\n",
       "    }\n",
       "\n",
       "    .dataframe thead th {\n",
       "        text-align: right;\n",
       "    }\n",
       "</style>\n",
       "<table border=\"1\" class=\"dataframe\">\n",
       "  <thead>\n",
       "    <tr style=\"text-align: right;\">\n",
       "      <th></th>\n",
       "      <th>ArrDel15</th>\n",
       "      <th>ArrDelayMinutes</th>\n",
       "      <th>ArrTime</th>\n",
       "      <th>CRSArrTime</th>\n",
       "      <th>CRSDepTime</th>\n",
       "      <th>DayofMonth</th>\n",
       "      <th>DepDel15</th>\n",
       "      <th>DepDelayMinutes</th>\n",
       "      <th>DepTime</th>\n",
       "      <th>Dest</th>\n",
       "      <th>DestAirportID</th>\n",
       "      <th>FlightDate</th>\n",
       "      <th>Month</th>\n",
       "      <th>Origin</th>\n",
       "      <th>OriginAirportID</th>\n",
       "      <th>Quarter</th>\n",
       "      <th>Year</th>\n",
       "    </tr>\n",
       "  </thead>\n",
       "  <tbody>\n",
       "    <tr>\n",
       "      <th>0</th>\n",
       "      <td>0.0</td>\n",
       "      <td>8.0</td>\n",
       "      <td>1610.0</td>\n",
       "      <td>1602</td>\n",
       "      <td>745</td>\n",
       "      <td>1</td>\n",
       "      <td>0.0</td>\n",
       "      <td>0.0</td>\n",
       "      <td>741.0</td>\n",
       "      <td>JFK</td>\n",
       "      <td>12478</td>\n",
       "      <td>2016-01-01</td>\n",
       "      <td>1</td>\n",
       "      <td>SEA</td>\n",
       "      <td>14747</td>\n",
       "      <td>1</td>\n",
       "      <td>2016</td>\n",
       "    </tr>\n",
       "    <tr>\n",
       "      <th>1</th>\n",
       "      <td>0.0</td>\n",
       "      <td>11.0</td>\n",
       "      <td>1613.0</td>\n",
       "      <td>1602</td>\n",
       "      <td>745</td>\n",
       "      <td>2</td>\n",
       "      <td>0.0</td>\n",
       "      <td>0.0</td>\n",
       "      <td>737.0</td>\n",
       "      <td>JFK</td>\n",
       "      <td>12478</td>\n",
       "      <td>2016-01-02</td>\n",
       "      <td>1</td>\n",
       "      <td>SEA</td>\n",
       "      <td>14747</td>\n",
       "      <td>1</td>\n",
       "      <td>2016</td>\n",
       "    </tr>\n",
       "    <tr>\n",
       "      <th>2</th>\n",
       "      <td>0.0</td>\n",
       "      <td>0.0</td>\n",
       "      <td>1547.0</td>\n",
       "      <td>1602</td>\n",
       "      <td>745</td>\n",
       "      <td>3</td>\n",
       "      <td>0.0</td>\n",
       "      <td>0.0</td>\n",
       "      <td>743.0</td>\n",
       "      <td>JFK</td>\n",
       "      <td>12478</td>\n",
       "      <td>2016-01-03</td>\n",
       "      <td>1</td>\n",
       "      <td>SEA</td>\n",
       "      <td>14747</td>\n",
       "      <td>1</td>\n",
       "      <td>2016</td>\n",
       "    </tr>\n",
       "    <tr>\n",
       "      <th>3</th>\n",
       "      <td>0.0</td>\n",
       "      <td>0.0</td>\n",
       "      <td>1551.0</td>\n",
       "      <td>1602</td>\n",
       "      <td>745</td>\n",
       "      <td>4</td>\n",
       "      <td>0.0</td>\n",
       "      <td>0.0</td>\n",
       "      <td>737.0</td>\n",
       "      <td>JFK</td>\n",
       "      <td>12478</td>\n",
       "      <td>2016-01-04</td>\n",
       "      <td>1</td>\n",
       "      <td>SEA</td>\n",
       "      <td>14747</td>\n",
       "      <td>1</td>\n",
       "      <td>2016</td>\n",
       "    </tr>\n",
       "    <tr>\n",
       "      <th>4</th>\n",
       "      <td>0.0</td>\n",
       "      <td>0.0</td>\n",
       "      <td>1524.0</td>\n",
       "      <td>1527</td>\n",
       "      <td>710</td>\n",
       "      <td>5</td>\n",
       "      <td>0.0</td>\n",
       "      <td>0.0</td>\n",
       "      <td>708.0</td>\n",
       "      <td>JFK</td>\n",
       "      <td>12478</td>\n",
       "      <td>2016-01-05</td>\n",
       "      <td>1</td>\n",
       "      <td>SEA</td>\n",
       "      <td>14747</td>\n",
       "      <td>1</td>\n",
       "      <td>2016</td>\n",
       "    </tr>\n",
       "  </tbody>\n",
       "</table>\n",
       "</div>"
      ],
      "text/plain": [
       "   ArrDel15  ArrDelayMinutes  ArrTime  CRSArrTime  CRSDepTime  DayofMonth  \\\n",
       "0       0.0              8.0   1610.0        1602         745           1   \n",
       "1       0.0             11.0   1613.0        1602         745           2   \n",
       "2       0.0              0.0   1547.0        1602         745           3   \n",
       "3       0.0              0.0   1551.0        1602         745           4   \n",
       "4       0.0              0.0   1524.0        1527         710           5   \n",
       "\n",
       "   DepDel15  DepDelayMinutes  DepTime Dest  DestAirportID  FlightDate  Month  \\\n",
       "0       0.0              0.0    741.0  JFK          12478  2016-01-01      1   \n",
       "1       0.0              0.0    737.0  JFK          12478  2016-01-02      1   \n",
       "2       0.0              0.0    743.0  JFK          12478  2016-01-03      1   \n",
       "3       0.0              0.0    737.0  JFK          12478  2016-01-04      1   \n",
       "4       0.0              0.0    708.0  JFK          12478  2016-01-05      1   \n",
       "\n",
       "  Origin  OriginAirportID  Quarter  Year  \n",
       "0    SEA            14747        1  2016  \n",
       "1    SEA            14747        1  2016  \n",
       "2    SEA            14747        1  2016  \n",
       "3    SEA            14747        1  2016  \n",
       "4    SEA            14747        1  2016  "
      ]
     },
     "execution_count": 13,
     "metadata": {},
     "output_type": "execute_result"
    }
   ],
   "source": [
    "import pandas as pd\n",
    "dataframe = pd.read_csv(\"Flight_Data.csv\")\n",
    "dataframe.head()"
   ]
  },
  {
   "cell_type": "markdown",
   "id": "f115b698-40cd-4057-8492-6c9a95e33866",
   "metadata": {},
   "source": [
    "### 4. Loading and data preprocessing of weather dataset"
   ]
  },
  {
   "cell_type": "code",
   "execution_count": 14,
   "id": "3c0bfe71-3872-4779-b1ee-ef590425b382",
   "metadata": {},
   "outputs": [],
   "source": [
    "import glob\n",
    "import pandas as pd\n",
    "import json"
   ]
  },
  {
   "cell_type": "code",
   "execution_count": 15,
   "id": "ae13a98c-91da-4c8d-b6df-b152c9e8a67a",
   "metadata": {},
   "outputs": [],
   "source": [
    "airport_list = ['ATL', 'CLT', 'DEN', 'DFW', 'EWR', 'IAH', 'JFK', 'LAS', \n",
    "                'LAX', 'MCO', 'MIA', 'ORD', 'PHX', 'SEA', 'SFO']\n",
    "\n",
    "# Weather list\n",
    "weather_columns = ['windspeedKmph', 'winddirDegree',  'weatherCode', 'precipMM', 'visibility', 'pressure', \n",
    "                   'cloudcover', 'DewPointF', 'WindGustKmph', 'tempF',  'WindChillF', 'humidity', 'time']"
   ]
  },
  {
   "cell_type": "code",
   "execution_count": 16,
   "id": "3639f4da-ebb6-47f4-ac5d-7af53c0085cc",
   "metadata": {},
   "outputs": [],
   "source": [
    "import warnings\n",
    "warnings.filterwarnings('ignore')"
   ]
  },
  {
   "cell_type": "code",
   "execution_count": 17,
   "id": "d193060e-4c48-41e9-b5d1-4ed3ff833ba9",
   "metadata": {},
   "outputs": [
    {
     "ename": "JSONDecodeError",
     "evalue": "Expecting property name enclosed in double quotes: line 4 column 3 (char 170745)",
     "output_type": "error",
     "traceback": [
      "\u001b[0;31m---------------------------------------------------------------------------\u001b[0m",
      "\u001b[0;31mJSONDecodeError\u001b[0m                           Traceback (most recent call last)",
      "Input \u001b[0;32mIn [17]\u001b[0m, in \u001b[0;36m<cell line: 5>\u001b[0;34m()\u001b[0m\n\u001b[1;32m      5\u001b[0m \u001b[38;5;28;01mfor\u001b[39;00m file \u001b[38;5;129;01min\u001b[39;00m weather_files_2016:\n\u001b[1;32m      6\u001b[0m     \u001b[38;5;28;01mwith\u001b[39;00m \u001b[38;5;28mopen\u001b[39m(file) \u001b[38;5;28;01mas\u001b[39;00m f:\n\u001b[0;32m----> 8\u001b[0m         temp_data \u001b[38;5;241m=\u001b[39m \u001b[43mjson\u001b[49m\u001b[38;5;241;43m.\u001b[39;49m\u001b[43mload\u001b[49m\u001b[43m(\u001b[49m\u001b[43mf\u001b[49m\u001b[43m)\u001b[49m\n\u001b[1;32m     10\u001b[0m         \u001b[38;5;28;01mfor\u001b[39;00m temp_series \u001b[38;5;129;01min\u001b[39;00m temp_data[\u001b[38;5;124m'\u001b[39m\u001b[38;5;124mdata\u001b[39m\u001b[38;5;124m'\u001b[39m][\u001b[38;5;124m'\u001b[39m\u001b[38;5;124mweather\u001b[39m\u001b[38;5;124m'\u001b[39m]:\n\u001b[1;32m     12\u001b[0m             data1 \u001b[38;5;241m=\u001b[39m pd\u001b[38;5;241m.\u001b[39mDataFrame(temp_series[\u001b[38;5;124m'\u001b[39m\u001b[38;5;124mhourly\u001b[39m\u001b[38;5;124m'\u001b[39m],columns\u001b[38;5;241m=\u001b[39mweather_columns)\n",
      "File \u001b[0;32m~/opt/anaconda3/lib/python3.9/json/__init__.py:293\u001b[0m, in \u001b[0;36mload\u001b[0;34m(fp, cls, object_hook, parse_float, parse_int, parse_constant, object_pairs_hook, **kw)\u001b[0m\n\u001b[1;32m    274\u001b[0m \u001b[38;5;28;01mdef\u001b[39;00m \u001b[38;5;21mload\u001b[39m(fp, \u001b[38;5;241m*\u001b[39m, \u001b[38;5;28mcls\u001b[39m\u001b[38;5;241m=\u001b[39m\u001b[38;5;28;01mNone\u001b[39;00m, object_hook\u001b[38;5;241m=\u001b[39m\u001b[38;5;28;01mNone\u001b[39;00m, parse_float\u001b[38;5;241m=\u001b[39m\u001b[38;5;28;01mNone\u001b[39;00m,\n\u001b[1;32m    275\u001b[0m         parse_int\u001b[38;5;241m=\u001b[39m\u001b[38;5;28;01mNone\u001b[39;00m, parse_constant\u001b[38;5;241m=\u001b[39m\u001b[38;5;28;01mNone\u001b[39;00m, object_pairs_hook\u001b[38;5;241m=\u001b[39m\u001b[38;5;28;01mNone\u001b[39;00m, \u001b[38;5;241m*\u001b[39m\u001b[38;5;241m*\u001b[39mkw):\n\u001b[1;32m    276\u001b[0m     \u001b[38;5;124;03m\"\"\"Deserialize ``fp`` (a ``.read()``-supporting file-like object containing\u001b[39;00m\n\u001b[1;32m    277\u001b[0m \u001b[38;5;124;03m    a JSON document) to a Python object.\u001b[39;00m\n\u001b[1;32m    278\u001b[0m \n\u001b[0;32m   (...)\u001b[0m\n\u001b[1;32m    291\u001b[0m \u001b[38;5;124;03m    kwarg; otherwise ``JSONDecoder`` is used.\u001b[39;00m\n\u001b[1;32m    292\u001b[0m \u001b[38;5;124;03m    \"\"\"\u001b[39;00m\n\u001b[0;32m--> 293\u001b[0m     \u001b[38;5;28;01mreturn\u001b[39;00m \u001b[43mloads\u001b[49m\u001b[43m(\u001b[49m\u001b[43mfp\u001b[49m\u001b[38;5;241;43m.\u001b[39;49m\u001b[43mread\u001b[49m\u001b[43m(\u001b[49m\u001b[43m)\u001b[49m\u001b[43m,\u001b[49m\n\u001b[1;32m    294\u001b[0m \u001b[43m        \u001b[49m\u001b[38;5;28;43mcls\u001b[39;49m\u001b[38;5;241;43m=\u001b[39;49m\u001b[38;5;28;43mcls\u001b[39;49m\u001b[43m,\u001b[49m\u001b[43m \u001b[49m\u001b[43mobject_hook\u001b[49m\u001b[38;5;241;43m=\u001b[39;49m\u001b[43mobject_hook\u001b[49m\u001b[43m,\u001b[49m\n\u001b[1;32m    295\u001b[0m \u001b[43m        \u001b[49m\u001b[43mparse_float\u001b[49m\u001b[38;5;241;43m=\u001b[39;49m\u001b[43mparse_float\u001b[49m\u001b[43m,\u001b[49m\u001b[43m \u001b[49m\u001b[43mparse_int\u001b[49m\u001b[38;5;241;43m=\u001b[39;49m\u001b[43mparse_int\u001b[49m\u001b[43m,\u001b[49m\n\u001b[1;32m    296\u001b[0m \u001b[43m        \u001b[49m\u001b[43mparse_constant\u001b[49m\u001b[38;5;241;43m=\u001b[39;49m\u001b[43mparse_constant\u001b[49m\u001b[43m,\u001b[49m\u001b[43m \u001b[49m\u001b[43mobject_pairs_hook\u001b[49m\u001b[38;5;241;43m=\u001b[39;49m\u001b[43mobject_pairs_hook\u001b[49m\u001b[43m,\u001b[49m\u001b[43m \u001b[49m\u001b[38;5;241;43m*\u001b[39;49m\u001b[38;5;241;43m*\u001b[39;49m\u001b[43mkw\u001b[49m\u001b[43m)\u001b[49m\n",
      "File \u001b[0;32m~/opt/anaconda3/lib/python3.9/json/__init__.py:346\u001b[0m, in \u001b[0;36mloads\u001b[0;34m(s, cls, object_hook, parse_float, parse_int, parse_constant, object_pairs_hook, **kw)\u001b[0m\n\u001b[1;32m    341\u001b[0m     s \u001b[38;5;241m=\u001b[39m s\u001b[38;5;241m.\u001b[39mdecode(detect_encoding(s), \u001b[38;5;124m'\u001b[39m\u001b[38;5;124msurrogatepass\u001b[39m\u001b[38;5;124m'\u001b[39m)\n\u001b[1;32m    343\u001b[0m \u001b[38;5;28;01mif\u001b[39;00m (\u001b[38;5;28mcls\u001b[39m \u001b[38;5;129;01mis\u001b[39;00m \u001b[38;5;28;01mNone\u001b[39;00m \u001b[38;5;129;01mand\u001b[39;00m object_hook \u001b[38;5;129;01mis\u001b[39;00m \u001b[38;5;28;01mNone\u001b[39;00m \u001b[38;5;129;01mand\u001b[39;00m\n\u001b[1;32m    344\u001b[0m         parse_int \u001b[38;5;129;01mis\u001b[39;00m \u001b[38;5;28;01mNone\u001b[39;00m \u001b[38;5;129;01mand\u001b[39;00m parse_float \u001b[38;5;129;01mis\u001b[39;00m \u001b[38;5;28;01mNone\u001b[39;00m \u001b[38;5;129;01mand\u001b[39;00m\n\u001b[1;32m    345\u001b[0m         parse_constant \u001b[38;5;129;01mis\u001b[39;00m \u001b[38;5;28;01mNone\u001b[39;00m \u001b[38;5;129;01mand\u001b[39;00m object_pairs_hook \u001b[38;5;129;01mis\u001b[39;00m \u001b[38;5;28;01mNone\u001b[39;00m \u001b[38;5;129;01mand\u001b[39;00m \u001b[38;5;129;01mnot\u001b[39;00m kw):\n\u001b[0;32m--> 346\u001b[0m     \u001b[38;5;28;01mreturn\u001b[39;00m \u001b[43m_default_decoder\u001b[49m\u001b[38;5;241;43m.\u001b[39;49m\u001b[43mdecode\u001b[49m\u001b[43m(\u001b[49m\u001b[43ms\u001b[49m\u001b[43m)\u001b[49m\n\u001b[1;32m    347\u001b[0m \u001b[38;5;28;01mif\u001b[39;00m \u001b[38;5;28mcls\u001b[39m \u001b[38;5;129;01mis\u001b[39;00m \u001b[38;5;28;01mNone\u001b[39;00m:\n\u001b[1;32m    348\u001b[0m     \u001b[38;5;28mcls\u001b[39m \u001b[38;5;241m=\u001b[39m JSONDecoder\n",
      "File \u001b[0;32m~/opt/anaconda3/lib/python3.9/json/decoder.py:337\u001b[0m, in \u001b[0;36mJSONDecoder.decode\u001b[0;34m(self, s, _w)\u001b[0m\n\u001b[1;32m    332\u001b[0m \u001b[38;5;28;01mdef\u001b[39;00m \u001b[38;5;21mdecode\u001b[39m(\u001b[38;5;28mself\u001b[39m, s, _w\u001b[38;5;241m=\u001b[39mWHITESPACE\u001b[38;5;241m.\u001b[39mmatch):\n\u001b[1;32m    333\u001b[0m     \u001b[38;5;124;03m\"\"\"Return the Python representation of ``s`` (a ``str`` instance\u001b[39;00m\n\u001b[1;32m    334\u001b[0m \u001b[38;5;124;03m    containing a JSON document).\u001b[39;00m\n\u001b[1;32m    335\u001b[0m \n\u001b[1;32m    336\u001b[0m \u001b[38;5;124;03m    \"\"\"\u001b[39;00m\n\u001b[0;32m--> 337\u001b[0m     obj, end \u001b[38;5;241m=\u001b[39m \u001b[38;5;28;43mself\u001b[39;49m\u001b[38;5;241;43m.\u001b[39;49m\u001b[43mraw_decode\u001b[49m\u001b[43m(\u001b[49m\u001b[43ms\u001b[49m\u001b[43m,\u001b[49m\u001b[43m \u001b[49m\u001b[43midx\u001b[49m\u001b[38;5;241;43m=\u001b[39;49m\u001b[43m_w\u001b[49m\u001b[43m(\u001b[49m\u001b[43ms\u001b[49m\u001b[43m,\u001b[49m\u001b[43m \u001b[49m\u001b[38;5;241;43m0\u001b[39;49m\u001b[43m)\u001b[49m\u001b[38;5;241;43m.\u001b[39;49m\u001b[43mend\u001b[49m\u001b[43m(\u001b[49m\u001b[43m)\u001b[49m\u001b[43m)\u001b[49m\n\u001b[1;32m    338\u001b[0m     end \u001b[38;5;241m=\u001b[39m _w(s, end)\u001b[38;5;241m.\u001b[39mend()\n\u001b[1;32m    339\u001b[0m     \u001b[38;5;28;01mif\u001b[39;00m end \u001b[38;5;241m!=\u001b[39m \u001b[38;5;28mlen\u001b[39m(s):\n",
      "File \u001b[0;32m~/opt/anaconda3/lib/python3.9/json/decoder.py:353\u001b[0m, in \u001b[0;36mJSONDecoder.raw_decode\u001b[0;34m(self, s, idx)\u001b[0m\n\u001b[1;32m    344\u001b[0m \u001b[38;5;124;03m\"\"\"Decode a JSON document from ``s`` (a ``str`` beginning with\u001b[39;00m\n\u001b[1;32m    345\u001b[0m \u001b[38;5;124;03ma JSON document) and return a 2-tuple of the Python\u001b[39;00m\n\u001b[1;32m    346\u001b[0m \u001b[38;5;124;03mrepresentation and the index in ``s`` where the document ended.\u001b[39;00m\n\u001b[0;32m   (...)\u001b[0m\n\u001b[1;32m    350\u001b[0m \n\u001b[1;32m    351\u001b[0m \u001b[38;5;124;03m\"\"\"\u001b[39;00m\n\u001b[1;32m    352\u001b[0m \u001b[38;5;28;01mtry\u001b[39;00m:\n\u001b[0;32m--> 353\u001b[0m     obj, end \u001b[38;5;241m=\u001b[39m \u001b[38;5;28;43mself\u001b[39;49m\u001b[38;5;241;43m.\u001b[39;49m\u001b[43mscan_once\u001b[49m\u001b[43m(\u001b[49m\u001b[43ms\u001b[49m\u001b[43m,\u001b[49m\u001b[43m \u001b[49m\u001b[43midx\u001b[49m\u001b[43m)\u001b[49m\n\u001b[1;32m    354\u001b[0m \u001b[38;5;28;01mexcept\u001b[39;00m \u001b[38;5;167;01mStopIteration\u001b[39;00m \u001b[38;5;28;01mas\u001b[39;00m err:\n\u001b[1;32m    355\u001b[0m     \u001b[38;5;28;01mraise\u001b[39;00m JSONDecodeError(\u001b[38;5;124m\"\u001b[39m\u001b[38;5;124mExpecting value\u001b[39m\u001b[38;5;124m\"\u001b[39m, s, err\u001b[38;5;241m.\u001b[39mvalue) \u001b[38;5;28;01mfrom\u001b[39;00m \u001b[38;5;28mNone\u001b[39m\n",
      "\u001b[0;31mJSONDecodeError\u001b[0m: Expecting property name enclosed in double quotes: line 4 column 3 (char 170745)"
     ]
    }
   ],
   "source": [
    "weather_files_2016 = glob.glob('Weather//***//2016-***.json')\n",
    "\n",
    "weather_2016 = []\n",
    "\n",
    "for file in weather_files_2016:\n",
    "    with open(file) as f:\n",
    "\n",
    "        temp_data = json.load(f)\n",
    "        \n",
    "        for temp_series in temp_data['data']['weather']:\n",
    "            \n",
    "            data1 = pd.DataFrame(temp_series['hourly'],columns=weather_columns)\n",
    "            \n",
    "            data1['date'] = temp_series['date']\n",
    "            for name in airport_list:\n",
    "                if name in file.split('//'):\n",
    "                    data1['airport'] = name\n",
    "            \n",
    "            weather_2016 = pd.DataFrame(weather_2016.append(data1))\n"
   ]
  },
  {
   "cell_type": "code",
   "execution_count": 18,
   "id": "68a4e061-d650-41f7-a63a-ed92c7207c6c",
   "metadata": {},
   "outputs": [
    {
     "data": {
      "text/html": [
       "<div>\n",
       "<style scoped>\n",
       "    .dataframe tbody tr th:only-of-type {\n",
       "        vertical-align: middle;\n",
       "    }\n",
       "\n",
       "    .dataframe tbody tr th {\n",
       "        vertical-align: top;\n",
       "    }\n",
       "\n",
       "    .dataframe thead th {\n",
       "        text-align: right;\n",
       "    }\n",
       "</style>\n",
       "<table border=\"1\" class=\"dataframe\">\n",
       "  <thead>\n",
       "    <tr style=\"text-align: right;\">\n",
       "      <th></th>\n",
       "      <th>windspeedKmph</th>\n",
       "      <th>winddirDegree</th>\n",
       "      <th>weatherCode</th>\n",
       "      <th>precipMM</th>\n",
       "      <th>visibility</th>\n",
       "      <th>pressure</th>\n",
       "      <th>cloudcover</th>\n",
       "      <th>DewPointF</th>\n",
       "      <th>WindGustKmph</th>\n",
       "      <th>tempF</th>\n",
       "      <th>WindChillF</th>\n",
       "      <th>humidity</th>\n",
       "      <th>time</th>\n",
       "      <th>date</th>\n",
       "    </tr>\n",
       "  </thead>\n",
       "  <tbody>\n",
       "    <tr>\n",
       "      <th>0</th>\n",
       "      <td>19</td>\n",
       "      <td>162</td>\n",
       "      <td>266</td>\n",
       "      <td>0.3</td>\n",
       "      <td>2</td>\n",
       "      <td>1006</td>\n",
       "      <td>100</td>\n",
       "      <td>62</td>\n",
       "      <td>31</td>\n",
       "      <td>63</td>\n",
       "      <td>63</td>\n",
       "      <td>95</td>\n",
       "      <td>0</td>\n",
       "      <td>2016-02-02</td>\n",
       "    </tr>\n",
       "    <tr>\n",
       "      <th>1</th>\n",
       "      <td>17</td>\n",
       "      <td>169</td>\n",
       "      <td>266</td>\n",
       "      <td>0.3</td>\n",
       "      <td>2</td>\n",
       "      <td>1006</td>\n",
       "      <td>100</td>\n",
       "      <td>61</td>\n",
       "      <td>29</td>\n",
       "      <td>63</td>\n",
       "      <td>63</td>\n",
       "      <td>95</td>\n",
       "      <td>100</td>\n",
       "      <td>2016-02-02</td>\n",
       "    </tr>\n",
       "    <tr>\n",
       "      <th>2</th>\n",
       "      <td>16</td>\n",
       "      <td>176</td>\n",
       "      <td>266</td>\n",
       "      <td>0.4</td>\n",
       "      <td>2</td>\n",
       "      <td>1005</td>\n",
       "      <td>100</td>\n",
       "      <td>61</td>\n",
       "      <td>27</td>\n",
       "      <td>63</td>\n",
       "      <td>63</td>\n",
       "      <td>95</td>\n",
       "      <td>200</td>\n",
       "      <td>2016-02-02</td>\n",
       "    </tr>\n",
       "    <tr>\n",
       "      <th>3</th>\n",
       "      <td>14</td>\n",
       "      <td>183</td>\n",
       "      <td>266</td>\n",
       "      <td>0.4</td>\n",
       "      <td>2</td>\n",
       "      <td>1005</td>\n",
       "      <td>100</td>\n",
       "      <td>61</td>\n",
       "      <td>26</td>\n",
       "      <td>62</td>\n",
       "      <td>62</td>\n",
       "      <td>95</td>\n",
       "      <td>300</td>\n",
       "      <td>2016-02-02</td>\n",
       "    </tr>\n",
       "    <tr>\n",
       "      <th>4</th>\n",
       "      <td>12</td>\n",
       "      <td>194</td>\n",
       "      <td>266</td>\n",
       "      <td>0.5</td>\n",
       "      <td>4</td>\n",
       "      <td>1005</td>\n",
       "      <td>100</td>\n",
       "      <td>61</td>\n",
       "      <td>21</td>\n",
       "      <td>63</td>\n",
       "      <td>62</td>\n",
       "      <td>96</td>\n",
       "      <td>400</td>\n",
       "      <td>2016-02-02</td>\n",
       "    </tr>\n",
       "  </tbody>\n",
       "</table>\n",
       "</div>"
      ],
      "text/plain": [
       "  windspeedKmph winddirDegree weatherCode precipMM visibility pressure  \\\n",
       "0            19           162         266      0.3          2     1006   \n",
       "1            17           169         266      0.3          2     1006   \n",
       "2            16           176         266      0.4          2     1005   \n",
       "3            14           183         266      0.4          2     1005   \n",
       "4            12           194         266      0.5          4     1005   \n",
       "\n",
       "  cloudcover DewPointF WindGustKmph tempF WindChillF humidity time        date  \n",
       "0        100        62           31    63         63       95    0  2016-02-02  \n",
       "1        100        61           29    63         63       95  100  2016-02-02  \n",
       "2        100        61           27    63         63       95  200  2016-02-02  \n",
       "3        100        61           26    62         62       95  300  2016-02-02  \n",
       "4        100        61           21    63         62       96  400  2016-02-02  "
      ]
     },
     "execution_count": 18,
     "metadata": {},
     "output_type": "execute_result"
    }
   ],
   "source": [
    "weather_2016.head()"
   ]
  },
  {
   "cell_type": "code",
   "execution_count": 19,
   "id": "3d0ab1a5-87b8-428c-8c10-a80adb27f8ca",
   "metadata": {},
   "outputs": [
    {
     "data": {
      "text/plain": [
       "(60720, 14)"
      ]
     },
     "execution_count": 19,
     "metadata": {},
     "output_type": "execute_result"
    }
   ],
   "source": [
    "weather_2016.shape"
   ]
  },
  {
   "cell_type": "code",
   "execution_count": null,
   "id": "e5452f04-10ef-4a6b-b72e-c6ffa6ae7bee",
   "metadata": {},
   "outputs": [],
   "source": [
    "weather_files_2017 = glob.glob('Weather//***//2017-***.json')\n",
    "\n",
    "weather_2017 = []\n",
    "\n",
    "for file in weather_files_2017:\n",
    "    with open(file) as f:\n",
    "\n",
    "        temp_data = json.load(f)\n",
    "        \n",
    "        for temp_series in temp_data['data']['weather']:\n",
    "            \n",
    "            data1 = pd.DataFrame(temp_series['hourly'],columns=weather_columns)\n",
    "            \n",
    "            data1['date'] = temp_series['date']\n",
    "            for name in airport_list:\n",
    "                if name in file.split('//'):\n",
    "                    data1['airport'] = name\n",
    "            \n",
    "            weather_2017 = pd.DataFrame(weather_2017.append(data1))"
   ]
  },
  {
   "cell_type": "code",
   "execution_count": null,
   "id": "449b3377-cf61-4c50-aa27-0df7fdc1207a",
   "metadata": {},
   "outputs": [],
   "source": [
    "weather_2017.shape"
   ]
  },
  {
   "cell_type": "markdown",
   "id": "de4a673c-ca35-4c15-a028-852ca2034b52",
   "metadata": {},
   "source": [
    "### MERGING"
   ]
  },
  {
   "cell_type": "code",
   "execution_count": null,
   "id": "bf9d3d7b-99af-45be-a15a-1b8f843595d0",
   "metadata": {},
   "outputs": [],
   "source": [
    "\n",
    "final_weather_dataset = pd.concat([weather_2016,weather_2017])\n",
    "\n",
    "final_weather_dataset.shape"
   ]
  },
  {
   "cell_type": "code",
   "execution_count": null,
   "id": "77613ef0-6ae9-4d0a-aae9-7913d504ffdf",
   "metadata": {},
   "outputs": [],
   "source": [
    "final_weather_dataset.isna().sum()"
   ]
  },
  {
   "cell_type": "code",
   "execution_count": null,
   "id": "5c7d8d58-0d45-4514-a4ec-64cf3217c5c4",
   "metadata": {},
   "outputs": [],
   "source": [
    "final_weather_dataset.to_csv('/Users/n.dammannagari/Downloads/FDP/Flight_Weather_Data.csv')"
   ]
  },
  {
   "cell_type": "markdown",
   "id": "84cdd78b-eafe-4988-8768-c615b9b2a9ec",
   "metadata": {},
   "source": [
    "### Data Preprocessing of final merged (Flight and weather) csv file"
   ]
  },
  {
   "cell_type": "code",
   "execution_count": null,
   "id": "c24341a6-e480-4713-874c-af96e9b8b1d1",
   "metadata": {},
   "outputs": [],
   "source": [
    "import pandas as pd\n",
    "flight_data = pd.read_csv(\"Flight_Data.csv\")\n",
    "flight_data.head()"
   ]
  },
  {
   "cell_type": "code",
   "execution_count": null,
   "id": "724e20f9-18e3-4030-8952-523788364bdd",
   "metadata": {},
   "outputs": [],
   "source": [
    "flight_data.shape"
   ]
  },
  {
   "cell_type": "code",
   "execution_count": null,
   "id": "e195676e-9257-4d46-9540-86b90003e69c",
   "metadata": {},
   "outputs": [],
   "source": [
    "weather_data = pd.read_csv('Flight_Weather_data.csv', index_col = 0)\n",
    "weather_data.head()"
   ]
  },
  {
   "cell_type": "code",
   "execution_count": null,
   "id": "689a9301-6670-496a-a729-6ff25bf0f3dd",
   "metadata": {},
   "outputs": [],
   "source": [
    "weather_data.shape"
   ]
  },
  {
   "cell_type": "code",
   "execution_count": null,
   "id": "a7a2b209-d444-489e-815a-8d077423ad7d",
   "metadata": {},
   "outputs": [],
   "source": [
    "flight_data.reset_index(inplace = True)\n",
    "weather_data.reset_index(inplace = True)"
   ]
  },
  {
   "cell_type": "code",
   "execution_count": null,
   "id": "7eaf82c1-0a4a-4b35-b975-3ed34b4aa9b2",
   "metadata": {},
   "outputs": [],
   "source": [
    "time_list = []\n",
    "for i in flight_data[\"CRSDepTime\"]:\n",
    "    i = int(i)\n",
    "    x = i%100\n",
    "    if(x<30) :\n",
    "        i = i - x\n",
    "    elif(x>=30) :\n",
    "        i = i+(100 - x)\n",
    "    if(i == 2400):\n",
    "        i = 0\n",
    "    time_list.append(i)\n",
    "flight_data['DeptTime'] = time_list"
   ]
  },
  {
   "cell_type": "code",
   "execution_count": null,
   "id": "63d004c4-f30d-4fc6-a569-9ba2d96f6c3a",
   "metadata": {},
   "outputs": [],
   "source": [
    "df = pd.merge(flight_data,weather_data,\n",
    "              how = 'inner',\n",
    "              left_on = ['DeptTime', 'FlightDate'],\n",
    "              right_on = ['time', 'date'])"
   ]
  },
  {
   "cell_type": "code",
   "execution_count": null,
   "id": "fa2172a5-2d68-4caa-ad2c-a9aacb3b1472",
   "metadata": {},
   "outputs": [],
   "source": [
    "df.shape"
   ]
  },
  {
   "cell_type": "code",
   "execution_count": null,
   "id": "152be928-a5ad-4309-931d-0ada0734ff92",
   "metadata": {},
   "outputs": [],
   "source": [
    "df.drop('Origin', axis=1)"
   ]
  },
  {
   "cell_type": "code",
   "execution_count": null,
   "id": "fd930cd0-983c-45f4-b5e7-312e9db52728",
   "metadata": {},
   "outputs": [],
   "source": [
    "df.columns"
   ]
  },
  {
   "cell_type": "code",
   "execution_count": null,
   "id": "0afce653-66d3-41ac-b6d2-a82fd2ca0d5b",
   "metadata": {},
   "outputs": [],
   "source": [
    "df.drop_duplicates(inplace = True)\n",
    "df.shape"
   ]
  },
  {
   "cell_type": "code",
   "execution_count": null,
   "id": "9261abde-24e2-49fb-a6d3-a645390e617b",
   "metadata": {},
   "outputs": [],
   "source": [
    "df.to_csv('/Users/n.dammannagari/Downloads/FDP/Merged_Flight_Weather.csv')"
   ]
  },
  {
   "cell_type": "code",
   "execution_count": null,
   "id": "64456ea4-3c87-439e-b354-1a23d990c7bb",
   "metadata": {},
   "outputs": [],
   "source": [
    "import pandas as pd\n",
    "df_new = pd.read_csv('Merged_Flight_Weather.csv', index_col = 0)"
   ]
  },
  {
   "cell_type": "code",
   "execution_count": null,
   "id": "df620b27-0b57-48c6-998d-a99963318669",
   "metadata": {},
   "outputs": [],
   "source": [
    "df_new.shape"
   ]
  },
  {
   "cell_type": "markdown",
   "id": "efa7935f-b4de-42fe-95b9-1885f73b4f90",
   "metadata": {},
   "source": [
    "### 2. Interesting relations"
   ]
  },
  {
   "cell_type": "code",
   "execution_count": null,
   "id": "c9a5b9c4-d907-4d65-a278-da0bda8e1320",
   "metadata": {},
   "outputs": [],
   "source": [
    "import matplotlib.pyplot as plt\n",
    "import seaborn as sns\n",
    "plt.figure(figsize=(25,25))\n",
    "cor = df.corr()\n",
    "sns.heatmap(cor, annot=True, cmap='Blues')\n"
   ]
  },
  {
   "cell_type": "code",
   "execution_count": null,
   "id": "9d365520-8c14-4c00-8eac-7b7b5f87b5b4",
   "metadata": {},
   "outputs": [],
   "source": [
    "plt.show()"
   ]
  },
  {
   "cell_type": "markdown",
   "id": "affdad9e-b4a3-433a-811b-41e9ff1bdd89",
   "metadata": {},
   "source": [
    "### 3. Target to be predicted is if a flight is delayed or not based on the weather. Features from weather and flight data are considered for prediction"
   ]
  },
  {
   "cell_type": "markdown",
   "id": "dac4551f-9585-4406-8325-60accf406780",
   "metadata": {},
   "source": [
    "### 4. Preprocessing for merged dataset(Flight and weather)"
   ]
  },
  {
   "cell_type": "code",
   "execution_count": null,
   "id": "0efa587e-3fad-488c-8fd9-a2ea641b54c9",
   "metadata": {},
   "outputs": [],
   "source": [
    "frame = frame.drop(columns=[ 'time', 'date', 'FlightDate', 'DepTime','ArrDelayMinutes', \n",
    "                      'ArrTime'])\n",
    "\n",
    "frame.drop_duplicates(inplace=True)\n",
    "\n",
    "frame[\"Origin\"] = frame[\"Origin\"].astype('category')\n",
    "frame[\"Dest\"] = frame[\"Dest\"].astype('category')\n",
    "\n",
    "frame[\"Origin\"] = frame[\"Origin\"].cat.codes\n",
    "\n",
    "frame[\"Dest\"] = frame[\"Dest\"].cat.codes"
   ]
  },
  {
   "cell_type": "code",
   "execution_count": null,
   "id": "3b350806-ee57-411a-bb80-3bc3cc0724bb",
   "metadata": {},
   "outputs": [],
   "source": [
    "frame.drop(frame.columns[0], axis=1, inplace=True)\n",
    "frame.shape"
   ]
  },
  {
   "cell_type": "code",
   "execution_count": null,
   "id": "fa24c297-48f4-40a7-ad0d-d9a91978b3d8",
   "metadata": {},
   "outputs": [],
   "source": [
    "frame.dropna(axis=0)\n",
    "\n",
    "frame['weatherCode'] = frame['weatherCode'].astype(int)\n",
    "\n",
    "frame['visibility'] = frame['visibility'].astype(int)\n",
    "frame['pressure'] = frame['pressure'].astype(int)\n",
    "frame['cloudcover'] = frame['cloudcover'].astype(int)\n",
    "frame['DewPointF'] = frame['DewPointF'].astype(int)\n",
    "frame['WindGustKmph'] = frame['WindGustKmph'].astype(int)\n",
    "frame['tempF'] = frame['tempF'].astype(int)\n",
    "frame['WindChillF'] = frame['WindChillF'].astype(int)\n",
    "frame['tempF'] = frame['tempF'].astype(int)\n",
    "\n",
    "frame['CRSArrTime'] = frame['CRSArrTime'].astype(int)\n",
    "frame['CRSDepTime'] = frame['CRSDepTime'].astype(int)\n",
    "frame['DayofMonth'] = frame['DayofMonth'].astype(int)\n",
    "\n",
    "frame['DestAirportID'] = frame['DestAirportID'].astype(int)\n",
    "frame['Month'] = frame['Month'].astype(int)\n",
    "frame['Quarter'] = frame['Quarter'].astype(int)\n",
    "frame['Year'] = frame['Year'].astype(int)\n",
    "frame['OriginAirportID'] = frame['OriginAirportID'].astype(int)\n",
    "\n",
    "frame.dtypes\n"
   ]
  },
  {
   "cell_type": "code",
   "execution_count": null,
   "id": "cc8c8f47-f653-403c-b2ca-66190a95d986",
   "metadata": {},
   "outputs": [],
   "source": [
    "frame[\"Origin\"] = frame[\"Origin\"].astype('category')\n",
    "frame[\"Dest\"] = frame[\"Dest\"].astype('category')"
   ]
  },
  {
   "cell_type": "markdown",
   "id": "f163e46a-1a2a-447d-ba19-b9a388011098",
   "metadata": {},
   "source": [
    "### 5. Splitting the data into training and testing sets"
   ]
  },
  {
   "cell_type": "code",
   "execution_count": null,
   "id": "82c063a7-7a18-4bd5-b8cd-524077800b6e",
   "metadata": {},
   "outputs": [],
   "source": [
    "y = frame['ArrDel15']\n",
    "X = frame.drop(columns = ['ArrDel15'])\n",
    "\n",
    "from sklearn.model_selection import train_test_split\n",
    "X_train, X_test, y_train, y_test = train_test_split(X, y, train_size=0.7)"
   ]
  },
  {
   "cell_type": "code",
   "execution_count": null,
   "id": "fc2fc33c-ce19-4028-9220-c3aa9d28bb7e",
   "metadata": {},
   "outputs": [],
   "source": []
  }
 ],
 "metadata": {
  "kernelspec": {
   "display_name": "Python 3 (ipykernel)",
   "language": "python",
   "name": "python3"
  },
  "language_info": {
   "codemirror_mode": {
    "name": "ipython",
    "version": 3
   },
   "file_extension": ".py",
   "mimetype": "text/x-python",
   "name": "python",
   "nbconvert_exporter": "python",
   "pygments_lexer": "ipython3",
   "version": "3.10.9"
  }
 },
 "nbformat": 4,
 "nbformat_minor": 5
}
